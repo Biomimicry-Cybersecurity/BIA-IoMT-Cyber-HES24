{
 "cells": [
  {
   "cell_type": "markdown",
   "metadata": {},
   "source": [
    "## Imports and Miscellaneous"
   ]
  },
  {
   "cell_type": "code",
   "execution_count": 1,
   "metadata": {},
   "outputs": [
    {
     "name": "stdout",
     "output_type": "stream",
     "text": [
      "Requirement already satisfied: seaborn in /opt/conda/lib/python3.11/site-packages (0.13.2)\n",
      "Requirement already satisfied: numpy!=1.24.0,>=1.20 in /opt/conda/lib/python3.11/site-packages (from seaborn) (1.26.4)\n",
      "Requirement already satisfied: pandas>=1.2 in /opt/conda/lib/python3.11/site-packages (from seaborn) (2.2.3)\n",
      "Requirement already satisfied: matplotlib!=3.6.1,>=3.4 in /opt/conda/lib/python3.11/site-packages (from seaborn) (3.9.2)\n",
      "Requirement already satisfied: contourpy>=1.0.1 in /opt/conda/lib/python3.11/site-packages (from matplotlib!=3.6.1,>=3.4->seaborn) (1.3.0)\n",
      "Requirement already satisfied: cycler>=0.10 in /opt/conda/lib/python3.11/site-packages (from matplotlib!=3.6.1,>=3.4->seaborn) (0.12.1)\n",
      "Requirement already satisfied: fonttools>=4.22.0 in /opt/conda/lib/python3.11/site-packages (from matplotlib!=3.6.1,>=3.4->seaborn) (4.54.1)\n",
      "Requirement already satisfied: kiwisolver>=1.3.1 in /opt/conda/lib/python3.11/site-packages (from matplotlib!=3.6.1,>=3.4->seaborn) (1.4.7)\n",
      "Requirement already satisfied: packaging>=20.0 in /opt/conda/lib/python3.11/site-packages (from matplotlib!=3.6.1,>=3.4->seaborn) (24.1)\n",
      "Requirement already satisfied: pillow>=8 in /opt/conda/lib/python3.11/site-packages (from matplotlib!=3.6.1,>=3.4->seaborn) (10.4.0)\n",
      "Requirement already satisfied: pyparsing>=2.3.1 in /opt/conda/lib/python3.11/site-packages (from matplotlib!=3.6.1,>=3.4->seaborn) (3.2.0)\n",
      "Requirement already satisfied: python-dateutil>=2.7 in /opt/conda/lib/python3.11/site-packages (from matplotlib!=3.6.1,>=3.4->seaborn) (2.9.0)\n",
      "Requirement already satisfied: pytz>=2020.1 in /opt/conda/lib/python3.11/site-packages (from pandas>=1.2->seaborn) (2023.3)\n",
      "Requirement already satisfied: tzdata>=2022.7 in /opt/conda/lib/python3.11/site-packages (from pandas>=1.2->seaborn) (2024.2)\n",
      "Requirement already satisfied: six>=1.5 in /opt/conda/lib/python3.11/site-packages (from python-dateutil>=2.7->matplotlib!=3.6.1,>=3.4->seaborn) (1.16.0)\n"
     ]
    }
   ],
   "source": [
    "!pip install seaborn"
   ]
  },
  {
   "cell_type": "code",
   "execution_count": 16,
   "metadata": {},
   "outputs": [
    {
     "name": "stdout",
     "output_type": "stream",
     "text": [
      "Number of CPU cores: 16\n"
     ]
    }
   ],
   "source": [
    "import numpy as np\n",
    "import pandas as pd\n",
    "from sklearn.ensemble import RandomForestClassifier\n",
    "from sklearn.metrics import classification_report, confusion_matrix, accuracy_score, recall_score, precision_score, f1_score\n",
    "from sklearn.preprocessing import MinMaxScaler, StandardScaler, RobustScaler\n",
    "from sklearn.preprocessing import LabelEncoder\n",
    "import warnings\n",
    "from joblib import Parallel, delayed, parallel_backend, parallel_config\n",
    "from pathlib import Path\n",
    "import time\n",
    "import multiprocessing\n",
    "import pickle\n",
    "import json\n",
    "import os\n",
    "import seaborn as sns\n",
    "import datetime\n",
    "import matplotlib.pyplot as plt\n",
    "\n",
    "warnings.simplefilter(\"ignore\", FutureWarning)\n",
    "%config Application.warn_ignores = FutureWarning\n",
    "\n",
    "num_cores = multiprocessing.cpu_count()\n",
    "print(f\"Number of CPU cores: {num_cores}\")"
   ]
  },
  {
   "cell_type": "markdown",
   "metadata": {},
   "source": [
    "## Notebook Start Time"
   ]
  },
  {
   "cell_type": "code",
   "execution_count": 3,
   "metadata": {},
   "outputs": [],
   "source": [
    "notebook_start_time = time.time()"
   ]
  },
  {
   "cell_type": "markdown",
   "metadata": {},
   "source": [
    "## Data"
   ]
  },
  {
   "cell_type": "code",
   "execution_count": 4,
   "metadata": {},
   "outputs": [],
   "source": [
    "def create_mem_map(parquet_file, data_type='train'):\n",
    "   \n",
    "    df = pd.read_parquet(parquet_file)\n",
    "    scaler = MinMaxScaler()\n",
    "    \n",
    "    mem_map_dir = Path('./mem_map_files')\n",
    "    mem_map_dir.mkdir(exist_ok=True)\n",
    "    \n",
    "    mem_map_file_X = mem_map_dir / f'X_{data_type}.npy'\n",
    "    mem_map_file_X_scaled = mem_map_dir / f'X_{data_type}_scaled.npy'\n",
    "    mem_map_file_y_2 = mem_map_dir / f'y_{data_type}_2.npy'\n",
    "    mem_map_file_y_6 = mem_map_dir / f'y_{data_type}_6.npy'\n",
    "    mem_map_file_y_19 = mem_map_dir / f'y_{data_type}_19.npy'\n",
    "    \n",
    "    X = df.drop(columns=['label', 'class_label', 'category_label', 'attack_label']).to_numpy()\n",
    "    np.save(mem_map_file_X, X)  \n",
    "\n",
    "    X_scaled =  scaler.fit_transform(X)\n",
    "    np.save(mem_map_file_X_scaled, X_scaled) \n",
    "    \n",
    "    encoder_2 = LabelEncoder()\n",
    "    encoder_6 = LabelEncoder()\n",
    "    encoder_19 = LabelEncoder()\n",
    "\n",
    "    y_2 = encoder_2.fit_transform(df['class_label'])  \n",
    "    y_6 = encoder_6.fit_transform(df['category_label'])  \n",
    "    y_19 = encoder_19.fit_transform(df['attack_label']) \n",
    "    \n",
    "    np.save(mem_map_file_y_2, y_2)\n",
    "    np.save(mem_map_file_y_6, y_6)\n",
    "    np.save(mem_map_file_y_19, y_19)\n",
    "\n",
    "    np.save(mem_map_dir / f'encoder_2_classes.npy', encoder_2.classes_)\n",
    "    np.save(mem_map_dir / f'encoder_6_classes.npy', encoder_6.classes_)\n",
    "    np.save(mem_map_dir / f'encoder_19_classes.npy', encoder_19.classes_)"
   ]
  },
  {
   "cell_type": "code",
   "execution_count": 5,
   "metadata": {},
   "outputs": [],
   "source": [
    "mem_map_created = True\n",
    "\n",
    "if mem_map_created == False:\n",
    "    create_mem_map('./data/cic_iomt_2024_wifi_mqtt_train.parquet', data_type='train')\n",
    "    create_mem_map('./data/cic_iomt_2024_wifi_mqtt_test.parquet', data_type='test')\n",
    "    "
   ]
  },
  {
   "cell_type": "code",
   "execution_count": 6,
   "metadata": {},
   "outputs": [],
   "source": [
    "mem_map_dir = Path('./mem_map_files')\n",
    "X_train = np.load(mem_map_dir / 'X_train.npy', mmap_mode='r')\n",
    "#X_train_scaled = np.load(mem_map_dir / 'X_train_scaled.npy', mmap_mode='r')\n",
    "\n",
    "y_train_2 = np.load(mem_map_dir / 'y_train_2.npy', mmap_mode='r')\n",
    "y_train_6 = np.load(mem_map_dir / 'y_train_6.npy', mmap_mode='r')\n",
    "y_train_19 = np.load(mem_map_dir / 'y_train_19.npy', mmap_mode='r')\n",
    "\n",
    "\n",
    "X_test = np.load(mem_map_dir / 'X_test.npy', mmap_mode='r')\n",
    "#X_test_scaled = np.load(mem_map_dir / 'X_test_scaled.npy', mmap_mode='r')\n",
    "\n",
    "y_test_2 = np.load(mem_map_dir / 'y_test_2.npy', mmap_mode='r')\n",
    "y_test_6 = np.load(mem_map_dir / 'y_test_6.npy', mmap_mode='r')\n",
    "y_test_19 = np.load(mem_map_dir / 'y_test_19.npy', mmap_mode='r')\n",
    "\n",
    "encoder_2_classes = np.load('./mem_map_files/encoder_2_classes.npy', allow_pickle=True)\n",
    "encoder_6_classes = np.load('./mem_map_files/encoder_6_classes.npy', allow_pickle=True)\n",
    "encoder_19_classes = np.load('./mem_map_files/encoder_19_classes.npy', allow_pickle=True)"
   ]
  },
  {
   "cell_type": "code",
   "execution_count": 7,
   "metadata": {},
   "outputs": [],
   "source": [
    "n_features = X_train.shape[1]"
   ]
  },
  {
   "cell_type": "markdown",
   "metadata": {},
   "source": [
    "## PSO Code"
   ]
  },
  {
   "cell_type": "markdown",
   "metadata": {},
   "source": [
    "### Benchmark Function"
   ]
  },
  {
   "cell_type": "code",
   "execution_count": 8,
   "metadata": {},
   "outputs": [],
   "source": [
    "def calculate_benchmark(X_train=None, X_test=None, y_train=None, y_test=None):\n",
    "    \n",
    "    classifier = RandomForestClassifier(n_estimators=10, max_depth=15, n_jobs=-1, random_state=1984)\n",
    "\n",
    "    algo_start = time.time()\n",
    "    classifier.fit(X_train, y_train)\n",
    "    y_pred = classifier.predict(X_test)\n",
    "    algo_end = time.time()\n",
    "\n",
    "    if np.unique(y_train).size == 2:\n",
    "         report = classification_report(encoder_2_classes[y_test], encoder_2_classes[y_pred], output_dict=True)\n",
    "    elif np.unique(y_train).size == 6:\n",
    "        report = classification_report(encoder_6_classes[y_test], encoder_6_classes[y_pred], output_dict=True)\n",
    "    else:\n",
    "        report = classification_report(encoder_19_classes[y_test], encoder_19_classes[y_pred], output_dict=True)\n",
    "\n",
    "    return report, algo_end - algo_start, y_pred"
   ]
  },
  {
   "cell_type": "markdown",
   "metadata": {},
   "source": [
    "### Fitness Function"
   ]
  },
  {
   "cell_type": "code",
   "execution_count": 9,
   "metadata": {},
   "outputs": [],
   "source": [
    "def fitness_function(position, X_train, X_test, y_train, y_test):\n",
    "\n",
    "    start_time_selection = time.time()\n",
    "    selected_features = np.where(position == 1)[0]\n",
    "    if len(selected_features) == 0:\n",
    "        return 0\n",
    "    \n",
    "    classifier = RandomForestClassifier(n_estimators=10, max_depth=15, n_jobs=1, random_state=1984)\n",
    "\n",
    "    classifier.fit(X_train[:, selected_features], y_train)\n",
    "    y_pred = classifier.predict(X_test[:, selected_features])\n",
    "    accuracy = accuracy_score(y_test, y_pred)\n",
    "\n",
    "    return accuracy"
   ]
  },
  {
   "cell_type": "markdown",
   "metadata": {},
   "source": [
    "### PSO Feature Selection Function"
   ]
  },
  {
   "cell_type": "code",
   "execution_count": 10,
   "metadata": {},
   "outputs": [],
   "source": [
    "def pso_feature_selection(num_particles=num_cores, num_iterations=20, n_features=n_features, min_improvement=0.0001, inertia_weight=0.5, cognitive_component=1.5, social_component=1.5, X_train=None, X_test=None, y_train=None, y_test=None, parallel=False, max_same=10):\n",
    "\n",
    "    # PSO Initialization\n",
    "    init_start = time.time()\n",
    "    velocity = np.zeros(shape=(num_particles, n_features))\n",
    "    current_position = np.random.randint(2, size=(num_particles, n_features))\n",
    "\n",
    "    if parallel == True:\n",
    "        with parallel_backend('loky'):\n",
    "            current_fitness = np.array(Parallel(n_jobs=-1, batch_size=1, verbose=10)(delayed(fitness_function)(current_position[i, :], X_train, X_test, y_train, y_test) for i in range(current_position.shape[0])))\n",
    "    else:\n",
    "        current_fitness = np.array([fitness_function(current_position[i, :], X_train, X_test, y_train, y_test) for i in range(current_position.shape[0])])\n",
    "\n",
    "    personal_best_position = np.copy(current_position)\n",
    "    personal_best_fitness =  np.copy(current_fitness)\n",
    "    global_best_position = personal_best_position[np.argmax(personal_best_fitness)]\n",
    "    global_best_fitness = np.max(personal_best_fitness)\n",
    "    init_end = time.time()\n",
    "    print(f\"Initialization time: {(init_end - init_start)/60:.2f} minutes\")\n",
    " \n",
    "    small_improvement = 0\n",
    "\n",
    "    # Main PSO Loop\n",
    "    for iteration in range(num_iterations):\n",
    "        iteration_start = time.time()\n",
    "        prior_global_best_fitness = np.copy(global_best_fitness)\n",
    "        print(f\"Iteration {iteration + 1}/{num_iterations}\")\n",
    "        if parallel == True:\n",
    "            with parallel_backend('loky'):\n",
    "                current_fitness = np.array(Parallel(n_jobs=-1, batch_size=1, verbose=10)(delayed(fitness_function)(current_position[i, :], X_train, X_test, y_train, y_test) for i in range(current_position.shape[0])))\n",
    "        else:\n",
    "            current_fitness = np.array([fitness_function(current_position[i, :], X_train, X_test, y_train, y_test) for i in range(current_position.shape[0])])\n",
    "            \n",
    "        fitness_map = current_fitness > personal_best_fitness\n",
    "        personal_best_fitness[fitness_map] = current_fitness[fitness_map]\n",
    "        personal_best_position[fitness_map] = current_position[fitness_map]\n",
    "        global_best_position = personal_best_position[np.argmax(personal_best_fitness)]\n",
    "        global_best_fitness = np.max(personal_best_fitness)\n",
    "        print(f\"Global Best Fitness: {global_best_fitness:.4f}\")\n",
    "\n",
    "        if (global_best_fitness - prior_global_best_fitness) < min_improvement:\n",
    "            small_improvement +=1\n",
    "        else:\n",
    "            small_improvement = 0\n",
    "\n",
    "        if small_improvement >= max_same:\n",
    "            iteration_end = time.time()\n",
    "            print(f\"Iteration time: {(iteration_end - iteration_start)/60:.2f} minutes\")\n",
    "            return global_best_position, global_best_fitness\n",
    "\n",
    "        r1 = np.random.rand(num_particles, n_features)\n",
    "        r2 = np.random.rand(num_particles, n_features)\n",
    "        velocity = inertia_weight * velocity + cognitive_component * r1 * (personal_best_position - current_position) + social_component * r2 * (global_best_position - current_position)\n",
    "        rand_nums = np.random.rand(num_particles, n_features)\n",
    "        flip_probs = 1 / (1 + np.exp(-velocity))\n",
    "        flip_map = rand_nums <= flip_probs\n",
    "        current_position = np.where(flip_map,1,0)\n",
    "        iteration_end = time.time()\n",
    "        print(f\"Iteration time: {(iteration_end - iteration_start)/60:.2f} minutes\")\n",
    "\n",
    "    return global_best_position, global_best_fitness"
   ]
  },
  {
   "cell_type": "markdown",
   "metadata": {},
   "source": [
    "### Random Forest"
   ]
  },
  {
   "cell_type": "markdown",
   "metadata": {},
   "source": [
    "#### Binary"
   ]
  },
  {
   "cell_type": "code",
   "execution_count": 11,
   "metadata": {},
   "outputs": [
    {
     "name": "stderr",
     "output_type": "stream",
     "text": [
      "[Parallel(n_jobs=-1)]: Using backend LokyBackend with 16 concurrent workers.\n",
      "[Parallel(n_jobs=-1)]: Done   3 out of  16 | elapsed:  1.5min remaining:  6.4min\n",
      "[Parallel(n_jobs=-1)]: Done   5 out of  16 | elapsed:  2.0min remaining:  4.4min\n",
      "[Parallel(n_jobs=-1)]: Done   7 out of  16 | elapsed:  2.0min remaining:  2.6min\n",
      "[Parallel(n_jobs=-1)]: Done   9 out of  16 | elapsed:  2.3min remaining:  1.8min\n",
      "[Parallel(n_jobs=-1)]: Done  11 out of  16 | elapsed:  2.3min remaining:  1.0min\n",
      "[Parallel(n_jobs=-1)]: Done  13 out of  16 | elapsed:  2.3min remaining:   32.5s\n",
      "[Parallel(n_jobs=-1)]: Done  16 out of  16 | elapsed:  3.0min finished\n",
      "[Parallel(n_jobs=-1)]: Using backend LokyBackend with 16 concurrent workers.\n"
     ]
    },
    {
     "name": "stdout",
     "output_type": "stream",
     "text": [
      "Initialization time: 2.97 minutes\n",
      "Iteration 1/20\n"
     ]
    },
    {
     "name": "stderr",
     "output_type": "stream",
     "text": [
      "[Parallel(n_jobs=-1)]: Done   3 out of  16 | elapsed:  1.5min remaining:  6.7min\n",
      "[Parallel(n_jobs=-1)]: Done   5 out of  16 | elapsed:  1.8min remaining:  4.1min\n",
      "[Parallel(n_jobs=-1)]: Done   7 out of  16 | elapsed:  2.0min remaining:  2.6min\n",
      "[Parallel(n_jobs=-1)]: Done   9 out of  16 | elapsed:  2.2min remaining:  1.7min\n",
      "[Parallel(n_jobs=-1)]: Done  11 out of  16 | elapsed:  2.3min remaining:  1.1min\n",
      "[Parallel(n_jobs=-1)]: Done  13 out of  16 | elapsed:  2.4min remaining:   33.5s\n",
      "[Parallel(n_jobs=-1)]: Done  16 out of  16 | elapsed:  2.7min finished\n",
      "[Parallel(n_jobs=-1)]: Using backend LokyBackend with 16 concurrent workers.\n"
     ]
    },
    {
     "name": "stdout",
     "output_type": "stream",
     "text": [
      "Global Best Fitness: 0.9991\n",
      "Iteration time: 2.72 minutes\n",
      "Iteration 2/20\n"
     ]
    },
    {
     "name": "stderr",
     "output_type": "stream",
     "text": [
      "[Parallel(n_jobs=-1)]: Done   3 out of  16 | elapsed:  1.5min remaining:  6.6min\n",
      "[Parallel(n_jobs=-1)]: Done   5 out of  16 | elapsed:  1.7min remaining:  3.6min\n",
      "[Parallel(n_jobs=-1)]: Done   7 out of  16 | elapsed:  1.7min remaining:  2.2min\n",
      "[Parallel(n_jobs=-1)]: Done   9 out of  16 | elapsed:  1.9min remaining:  1.5min\n",
      "[Parallel(n_jobs=-1)]: Done  11 out of  16 | elapsed:  2.0min remaining:   55.6s\n",
      "[Parallel(n_jobs=-1)]: Done  13 out of  16 | elapsed:  2.1min remaining:   29.0s\n",
      "[Parallel(n_jobs=-1)]: Done  16 out of  16 | elapsed:  2.4min finished\n",
      "[Parallel(n_jobs=-1)]: Using backend LokyBackend with 16 concurrent workers.\n"
     ]
    },
    {
     "name": "stdout",
     "output_type": "stream",
     "text": [
      "Global Best Fitness: 0.9991\n",
      "Iteration time: 2.40 minutes\n",
      "Iteration 3/20\n"
     ]
    },
    {
     "name": "stderr",
     "output_type": "stream",
     "text": [
      "[Parallel(n_jobs=-1)]: Done   3 out of  16 | elapsed:  1.5min remaining:  6.7min\n",
      "[Parallel(n_jobs=-1)]: Done   5 out of  16 | elapsed:  1.7min remaining:  3.8min\n",
      "[Parallel(n_jobs=-1)]: Done   7 out of  16 | elapsed:  1.9min remaining:  2.5min\n",
      "[Parallel(n_jobs=-1)]: Done   9 out of  16 | elapsed:  2.2min remaining:  1.7min\n",
      "[Parallel(n_jobs=-1)]: Done  11 out of  16 | elapsed:  2.2min remaining:  1.0min\n",
      "[Parallel(n_jobs=-1)]: Done  13 out of  16 | elapsed:  2.3min remaining:   31.7s\n",
      "[Parallel(n_jobs=-1)]: Done  16 out of  16 | elapsed:  2.6min finished\n",
      "[Parallel(n_jobs=-1)]: Using backend LokyBackend with 16 concurrent workers.\n"
     ]
    },
    {
     "name": "stdout",
     "output_type": "stream",
     "text": [
      "Global Best Fitness: 0.9991\n",
      "Iteration time: 2.55 minutes\n",
      "Iteration 4/20\n"
     ]
    },
    {
     "name": "stderr",
     "output_type": "stream",
     "text": [
      "[Parallel(n_jobs=-1)]: Done   3 out of  16 | elapsed:  1.7min remaining:  7.2min\n",
      "[Parallel(n_jobs=-1)]: Done   5 out of  16 | elapsed:  1.7min remaining:  3.8min\n",
      "[Parallel(n_jobs=-1)]: Done   7 out of  16 | elapsed:  1.8min remaining:  2.3min\n",
      "[Parallel(n_jobs=-1)]: Done   9 out of  16 | elapsed:  1.8min remaining:  1.4min\n",
      "[Parallel(n_jobs=-1)]: Done  11 out of  16 | elapsed:  1.9min remaining:   51.2s\n",
      "[Parallel(n_jobs=-1)]: Done  13 out of  16 | elapsed:  2.1min remaining:   29.5s\n",
      "[Parallel(n_jobs=-1)]: Done  16 out of  16 | elapsed:  2.4min finished\n",
      "[Parallel(n_jobs=-1)]: Using backend LokyBackend with 16 concurrent workers.\n"
     ]
    },
    {
     "name": "stdout",
     "output_type": "stream",
     "text": [
      "Global Best Fitness: 0.9991\n",
      "Iteration time: 2.42 minutes\n",
      "Iteration 5/20\n"
     ]
    },
    {
     "name": "stderr",
     "output_type": "stream",
     "text": [
      "[Parallel(n_jobs=-1)]: Done   3 out of  16 | elapsed:  1.6min remaining:  7.1min\n",
      "[Parallel(n_jobs=-1)]: Done   5 out of  16 | elapsed:  1.8min remaining:  3.9min\n",
      "[Parallel(n_jobs=-1)]: Done   7 out of  16 | elapsed:  2.0min remaining:  2.5min\n",
      "[Parallel(n_jobs=-1)]: Done   9 out of  16 | elapsed:  2.0min remaining:  1.5min\n",
      "[Parallel(n_jobs=-1)]: Done  11 out of  16 | elapsed:  2.1min remaining:   56.8s\n",
      "[Parallel(n_jobs=-1)]: Done  13 out of  16 | elapsed:  2.4min remaining:   32.7s\n",
      "[Parallel(n_jobs=-1)]: Done  16 out of  16 | elapsed:  2.5min finished\n",
      "[Parallel(n_jobs=-1)]: Using backend LokyBackend with 16 concurrent workers.\n"
     ]
    },
    {
     "name": "stdout",
     "output_type": "stream",
     "text": [
      "Global Best Fitness: 0.9991\n",
      "Iteration time: 2.51 minutes\n",
      "Iteration 6/20\n"
     ]
    },
    {
     "name": "stderr",
     "output_type": "stream",
     "text": [
      "[Parallel(n_jobs=-1)]: Done   3 out of  16 | elapsed:  1.5min remaining:  6.4min\n",
      "[Parallel(n_jobs=-1)]: Done   5 out of  16 | elapsed:  1.8min remaining:  3.9min\n",
      "[Parallel(n_jobs=-1)]: Done   7 out of  16 | elapsed:  1.8min remaining:  2.3min\n",
      "[Parallel(n_jobs=-1)]: Done   9 out of  16 | elapsed:  2.0min remaining:  1.5min\n",
      "[Parallel(n_jobs=-1)]: Done  11 out of  16 | elapsed:  2.1min remaining:   58.1s\n",
      "[Parallel(n_jobs=-1)]: Done  13 out of  16 | elapsed:  2.2min remaining:   30.5s\n",
      "[Parallel(n_jobs=-1)]: Done  16 out of  16 | elapsed:  2.6min finished\n",
      "[Parallel(n_jobs=-1)]: Using backend LokyBackend with 16 concurrent workers.\n"
     ]
    },
    {
     "name": "stdout",
     "output_type": "stream",
     "text": [
      "Global Best Fitness: 0.9991\n",
      "Iteration time: 2.57 minutes\n",
      "Iteration 7/20\n"
     ]
    },
    {
     "name": "stderr",
     "output_type": "stream",
     "text": [
      "[Parallel(n_jobs=-1)]: Done   3 out of  16 | elapsed:  1.5min remaining:  6.6min\n",
      "[Parallel(n_jobs=-1)]: Done   5 out of  16 | elapsed:  1.8min remaining:  4.0min\n",
      "[Parallel(n_jobs=-1)]: Done   7 out of  16 | elapsed:  1.9min remaining:  2.4min\n",
      "[Parallel(n_jobs=-1)]: Done   9 out of  16 | elapsed:  1.9min remaining:  1.5min\n",
      "[Parallel(n_jobs=-1)]: Done  11 out of  16 | elapsed:  2.0min remaining:   54.1s\n",
      "[Parallel(n_jobs=-1)]: Done  13 out of  16 | elapsed:  2.2min remaining:   31.0s\n",
      "[Parallel(n_jobs=-1)]: Done  16 out of  16 | elapsed:  2.4min finished\n",
      "[Parallel(n_jobs=-1)]: Using backend LokyBackend with 16 concurrent workers.\n"
     ]
    },
    {
     "name": "stdout",
     "output_type": "stream",
     "text": [
      "Global Best Fitness: 0.9991\n",
      "Iteration time: 2.39 minutes\n",
      "Iteration 8/20\n"
     ]
    },
    {
     "name": "stderr",
     "output_type": "stream",
     "text": [
      "[Parallel(n_jobs=-1)]: Done   3 out of  16 | elapsed:  1.6min remaining:  6.9min\n",
      "[Parallel(n_jobs=-1)]: Done   5 out of  16 | elapsed:  1.8min remaining:  4.0min\n",
      "[Parallel(n_jobs=-1)]: Done   7 out of  16 | elapsed:  1.9min remaining:  2.4min\n",
      "[Parallel(n_jobs=-1)]: Done   9 out of  16 | elapsed:  1.9min remaining:  1.5min\n",
      "[Parallel(n_jobs=-1)]: Done  11 out of  16 | elapsed:  2.0min remaining:   55.7s\n",
      "[Parallel(n_jobs=-1)]: Done  13 out of  16 | elapsed:  2.1min remaining:   29.7s\n",
      "[Parallel(n_jobs=-1)]: Done  16 out of  16 | elapsed:  2.8min finished\n",
      "[Parallel(n_jobs=-1)]: Using backend LokyBackend with 16 concurrent workers.\n"
     ]
    },
    {
     "name": "stdout",
     "output_type": "stream",
     "text": [
      "Global Best Fitness: 0.9991\n",
      "Iteration time: 2.82 minutes\n",
      "Iteration 9/20\n"
     ]
    },
    {
     "name": "stderr",
     "output_type": "stream",
     "text": [
      "[Parallel(n_jobs=-1)]: Done   3 out of  16 | elapsed:  1.5min remaining:  6.4min\n",
      "[Parallel(n_jobs=-1)]: Done   5 out of  16 | elapsed:  1.6min remaining:  3.5min\n",
      "[Parallel(n_jobs=-1)]: Done   7 out of  16 | elapsed:  1.7min remaining:  2.2min\n",
      "[Parallel(n_jobs=-1)]: Done   9 out of  16 | elapsed:  1.8min remaining:  1.4min\n",
      "[Parallel(n_jobs=-1)]: Done  11 out of  16 | elapsed:  1.9min remaining:   52.9s\n",
      "[Parallel(n_jobs=-1)]: Done  13 out of  16 | elapsed:  2.1min remaining:   28.4s\n",
      "[Parallel(n_jobs=-1)]: Done  16 out of  16 | elapsed:  2.2min finished\n",
      "[Parallel(n_jobs=-1)]: Using backend LokyBackend with 16 concurrent workers.\n"
     ]
    },
    {
     "name": "stdout",
     "output_type": "stream",
     "text": [
      "Global Best Fitness: 0.9992\n",
      "Iteration time: 2.21 minutes\n",
      "Iteration 10/20\n"
     ]
    },
    {
     "name": "stderr",
     "output_type": "stream",
     "text": [
      "[Parallel(n_jobs=-1)]: Done   3 out of  16 | elapsed:  1.3min remaining:  5.7min\n",
      "[Parallel(n_jobs=-1)]: Done   5 out of  16 | elapsed:  1.5min remaining:  3.3min\n",
      "[Parallel(n_jobs=-1)]: Done   7 out of  16 | elapsed:  1.6min remaining:  2.0min\n",
      "[Parallel(n_jobs=-1)]: Done   9 out of  16 | elapsed:  1.7min remaining:  1.3min\n",
      "[Parallel(n_jobs=-1)]: Done  11 out of  16 | elapsed:  1.8min remaining:   47.9s\n",
      "[Parallel(n_jobs=-1)]: Done  13 out of  16 | elapsed:  1.8min remaining:   25.4s\n"
     ]
    },
    {
     "name": "stdout",
     "output_type": "stream",
     "text": [
      "Global Best Fitness: 0.9992\n",
      "Iteration time: 2.14 minutes\n"
     ]
    },
    {
     "name": "stderr",
     "output_type": "stream",
     "text": [
      "[Parallel(n_jobs=-1)]: Done  16 out of  16 | elapsed:  2.1min finished\n"
     ]
    }
   ],
   "source": [
    "rf_pso_best_pos_2, rf_pso_best_fitness_2 = pso_feature_selection(X_train=X_train, X_test=X_test, y_train=y_train_2, y_test=y_test_2, parallel=True)"
   ]
  },
  {
   "cell_type": "code",
   "execution_count": 12,
   "metadata": {},
   "outputs": [
    {
     "name": "stdout",
     "output_type": "stream",
     "text": [
      "              precision    recall  f1-score       support\n",
      "Attack         0.999866  0.999279  0.999572  1.576575e+06\n",
      "Benign         0.970493  0.994389  0.982296  3.760700e+04\n",
      "accuracy       0.999165  0.999165  0.999165  9.991649e-01\n",
      "macro avg      0.985179  0.996834  0.990934  1.614182e+06\n",
      "weighted avg   0.999182  0.999165  0.999170  1.614182e+06\n",
      "11.566552639007568\n"
     ]
    }
   ],
   "source": [
    "rf_pso_features_2 = np.sum(rf_pso_best_pos_2)\n",
    "selected_features = np.where(rf_pso_best_pos_2 == 1)[0]\n",
    "rf_pso_report_2, rf_pso_time_2, y_pred_rf_pso_2 = calculate_benchmark(X_train=X_train[:, selected_features], X_test=X_test[:, selected_features], y_train=y_train_2, y_test=y_test_2)\n",
    "print(pd.DataFrame(rf_pso_report_2).transpose())\n",
    "print(rf_pso_time_2)"
   ]
  },
  {
   "cell_type": "code",
   "execution_count": 17,
   "metadata": {},
   "outputs": [
    {
     "data": {
      "image/png": "[encoded data removed]",
      "text/plain": [
       "<Figure size 1000x700 with 2 Axes>"
      ]
     },
     "metadata": {},
     "output_type": "display_data"
    }
   ],
   "source": [
    "cm_rf_pso_2 = confusion_matrix(y_test_2, y_pred_rf_pso_2)\n",
    "\n",
    "# get names for confusion matrix\n",
    "df_2 = pd.DataFrame(rf_pso_report_2)\n",
    "column_names_2 = df_2.columns.tolist()[0:2]\n",
    "\n",
    "# visualize the confusion matrix using seaborn\n",
    "plt.figure(figsize=(10, 7))\n",
    "sns.heatmap(cm_rf_pso_2,\n",
    "            annot=True,\n",
    "            fmt='d',\n",
    "            cmap='Blues',\n",
    "            xticklabels=column_names_2,\n",
    "            yticklabels=column_names_2)\n",
    "plt.xlabel('Predicted Labels')\n",
    "plt.ylabel('True Labels')\n",
    "plt.title('Confusion Matrix')\n",
    "plt.show()"
   ]
  },
  {
   "cell_type": "markdown",
   "metadata": {},
   "source": [
    "#### 6 Classes"
   ]
  },
  {
   "cell_type": "code",
   "execution_count": 18,
   "metadata": {},
   "outputs": [
    {
     "name": "stderr",
     "output_type": "stream",
     "text": [
      "[Parallel(n_jobs=-1)]: Using backend LokyBackend with 16 concurrent workers.\n",
      "[Parallel(n_jobs=-1)]: Done   3 out of  16 | elapsed:  2.2min remaining:  9.4min\n",
      "[Parallel(n_jobs=-1)]: Done   5 out of  16 | elapsed:  2.2min remaining:  4.9min\n",
      "[Parallel(n_jobs=-1)]: Done   7 out of  16 | elapsed:  2.3min remaining:  3.0min\n",
      "[Parallel(n_jobs=-1)]: Done   9 out of  16 | elapsed:  2.4min remaining:  1.8min\n",
      "[Parallel(n_jobs=-1)]: Done  11 out of  16 | elapsed:  2.5min remaining:  1.1min\n",
      "[Parallel(n_jobs=-1)]: Done  13 out of  16 | elapsed:  2.6min remaining:   35.6s\n",
      "[Parallel(n_jobs=-1)]: Done  16 out of  16 | elapsed:  2.8min finished\n",
      "[Parallel(n_jobs=-1)]: Using backend LokyBackend with 16 concurrent workers.\n"
     ]
    },
    {
     "name": "stdout",
     "output_type": "stream",
     "text": [
      "Initialization time: 2.80 minutes\n",
      "Iteration 1/20\n"
     ]
    },
    {
     "name": "stderr",
     "output_type": "stream",
     "text": [
      "[Parallel(n_jobs=-1)]: Done   3 out of  16 | elapsed:  2.1min remaining:  9.1min\n",
      "[Parallel(n_jobs=-1)]: Done   5 out of  16 | elapsed:  2.2min remaining:  4.8min\n",
      "[Parallel(n_jobs=-1)]: Done   7 out of  16 | elapsed:  2.4min remaining:  3.0min\n",
      "[Parallel(n_jobs=-1)]: Done   9 out of  16 | elapsed:  2.4min remaining:  1.9min\n",
      "[Parallel(n_jobs=-1)]: Done  11 out of  16 | elapsed:  2.4min remaining:  1.1min\n",
      "[Parallel(n_jobs=-1)]: Done  13 out of  16 | elapsed:  2.5min remaining:   34.5s\n",
      "[Parallel(n_jobs=-1)]: Done  16 out of  16 | elapsed:  2.8min finished\n",
      "[Parallel(n_jobs=-1)]: Using backend LokyBackend with 16 concurrent workers.\n"
     ]
    },
    {
     "name": "stdout",
     "output_type": "stream",
     "text": [
      "Global Best Fitness: 0.9986\n",
      "Iteration time: 2.83 minutes\n",
      "Iteration 2/20\n"
     ]
    },
    {
     "name": "stderr",
     "output_type": "stream",
     "text": [
      "[Parallel(n_jobs=-1)]: Done   3 out of  16 | elapsed:  1.8min remaining:  7.6min\n",
      "[Parallel(n_jobs=-1)]: Done   5 out of  16 | elapsed:  1.9min remaining:  4.2min\n",
      "[Parallel(n_jobs=-1)]: Done   7 out of  16 | elapsed:  2.3min remaining:  3.0min\n",
      "[Parallel(n_jobs=-1)]: Done   9 out of  16 | elapsed:  2.4min remaining:  1.9min\n",
      "[Parallel(n_jobs=-1)]: Done  11 out of  16 | elapsed:  2.5min remaining:  1.1min\n",
      "[Parallel(n_jobs=-1)]: Done  13 out of  16 | elapsed:  2.6min remaining:   35.7s\n",
      "[Parallel(n_jobs=-1)]: Done  16 out of  16 | elapsed:  2.7min finished\n",
      "[Parallel(n_jobs=-1)]: Using backend LokyBackend with 16 concurrent workers.\n"
     ]
    },
    {
     "name": "stdout",
     "output_type": "stream",
     "text": [
      "Global Best Fitness: 0.9986\n",
      "Iteration time: 2.69 minutes\n",
      "Iteration 3/20\n"
     ]
    },
    {
     "name": "stderr",
     "output_type": "stream",
     "text": [
      "[Parallel(n_jobs=-1)]: Done   3 out of  16 | elapsed:  1.9min remaining:  8.3min\n",
      "[Parallel(n_jobs=-1)]: Done   5 out of  16 | elapsed:  2.1min remaining:  4.5min\n",
      "[Parallel(n_jobs=-1)]: Done   7 out of  16 | elapsed:  2.2min remaining:  2.9min\n",
      "[Parallel(n_jobs=-1)]: Done   9 out of  16 | elapsed:  2.3min remaining:  1.8min\n",
      "[Parallel(n_jobs=-1)]: Done  11 out of  16 | elapsed:  2.3min remaining:  1.1min\n",
      "[Parallel(n_jobs=-1)]: Done  13 out of  16 | elapsed:  2.4min remaining:   33.5s\n",
      "[Parallel(n_jobs=-1)]: Done  16 out of  16 | elapsed:  2.9min finished\n",
      "[Parallel(n_jobs=-1)]: Using backend LokyBackend with 16 concurrent workers.\n"
     ]
    },
    {
     "name": "stdout",
     "output_type": "stream",
     "text": [
      "Global Best Fitness: 0.9987\n",
      "Iteration time: 2.91 minutes\n",
      "Iteration 4/20\n"
     ]
    },
    {
     "name": "stderr",
     "output_type": "stream",
     "text": [
      "[Parallel(n_jobs=-1)]: Done   3 out of  16 | elapsed:  1.7min remaining:  7.2min\n",
      "[Parallel(n_jobs=-1)]: Done   5 out of  16 | elapsed:  1.8min remaining:  4.0min\n",
      "[Parallel(n_jobs=-1)]: Done   7 out of  16 | elapsed:  2.0min remaining:  2.5min\n",
      "[Parallel(n_jobs=-1)]: Done   9 out of  16 | elapsed:  2.0min remaining:  1.6min\n",
      "[Parallel(n_jobs=-1)]: Done  11 out of  16 | elapsed:  2.2min remaining:   59.3s\n",
      "[Parallel(n_jobs=-1)]: Done  13 out of  16 | elapsed:  2.2min remaining:   30.9s\n",
      "[Parallel(n_jobs=-1)]: Done  16 out of  16 | elapsed:  2.6min finished\n",
      "[Parallel(n_jobs=-1)]: Using backend LokyBackend with 16 concurrent workers.\n"
     ]
    },
    {
     "name": "stdout",
     "output_type": "stream",
     "text": [
      "Global Best Fitness: 0.9987\n",
      "Iteration time: 2.57 minutes\n",
      "Iteration 5/20\n"
     ]
    },
    {
     "name": "stderr",
     "output_type": "stream",
     "text": [
      "[Parallel(n_jobs=-1)]: Done   3 out of  16 | elapsed:  1.8min remaining:  7.8min\n",
      "[Parallel(n_jobs=-1)]: Done   5 out of  16 | elapsed:  1.9min remaining:  4.2min\n",
      "[Parallel(n_jobs=-1)]: Done   7 out of  16 | elapsed:  1.9min remaining:  2.5min\n",
      "[Parallel(n_jobs=-1)]: Done   9 out of  16 | elapsed:  2.0min remaining:  1.6min\n",
      "[Parallel(n_jobs=-1)]: Done  11 out of  16 | elapsed:  2.1min remaining:   58.3s\n",
      "[Parallel(n_jobs=-1)]: Done  13 out of  16 | elapsed:  2.4min remaining:   32.7s\n",
      "[Parallel(n_jobs=-1)]: Done  16 out of  16 | elapsed:  2.7min finished\n",
      "[Parallel(n_jobs=-1)]: Using backend LokyBackend with 16 concurrent workers.\n"
     ]
    },
    {
     "name": "stdout",
     "output_type": "stream",
     "text": [
      "Global Best Fitness: 0.9987\n",
      "Iteration time: 2.71 minutes\n",
      "Iteration 6/20\n"
     ]
    },
    {
     "name": "stderr",
     "output_type": "stream",
     "text": [
      "[Parallel(n_jobs=-1)]: Done   3 out of  16 | elapsed:  1.8min remaining:  7.7min\n",
      "[Parallel(n_jobs=-1)]: Done   5 out of  16 | elapsed:  1.9min remaining:  4.1min\n",
      "[Parallel(n_jobs=-1)]: Done   7 out of  16 | elapsed:  1.9min remaining:  2.4min\n",
      "[Parallel(n_jobs=-1)]: Done   9 out of  16 | elapsed:  2.2min remaining:  1.7min\n",
      "[Parallel(n_jobs=-1)]: Done  11 out of  16 | elapsed:  2.2min remaining:  1.0min\n",
      "[Parallel(n_jobs=-1)]: Done  13 out of  16 | elapsed:  2.3min remaining:   31.7s\n",
      "[Parallel(n_jobs=-1)]: Done  16 out of  16 | elapsed:  2.7min finished\n",
      "[Parallel(n_jobs=-1)]: Using backend LokyBackend with 16 concurrent workers.\n"
     ]
    },
    {
     "name": "stdout",
     "output_type": "stream",
     "text": [
      "Global Best Fitness: 0.9987\n",
      "Iteration time: 2.68 minutes\n",
      "Iteration 7/20\n"
     ]
    },
    {
     "name": "stderr",
     "output_type": "stream",
     "text": [
      "[Parallel(n_jobs=-1)]: Done   3 out of  16 | elapsed:  1.6min remaining:  7.1min\n",
      "[Parallel(n_jobs=-1)]: Done   5 out of  16 | elapsed:  2.0min remaining:  4.3min\n",
      "[Parallel(n_jobs=-1)]: Done   7 out of  16 | elapsed:  2.1min remaining:  2.6min\n",
      "[Parallel(n_jobs=-1)]: Done   9 out of  16 | elapsed:  2.1min remaining:  1.6min\n",
      "[Parallel(n_jobs=-1)]: Done  11 out of  16 | elapsed:  2.2min remaining:  1.0min\n",
      "[Parallel(n_jobs=-1)]: Done  13 out of  16 | elapsed:  2.3min remaining:   31.9s\n",
      "[Parallel(n_jobs=-1)]: Done  16 out of  16 | elapsed:  2.4min finished\n",
      "[Parallel(n_jobs=-1)]: Using backend LokyBackend with 16 concurrent workers.\n"
     ]
    },
    {
     "name": "stdout",
     "output_type": "stream",
     "text": [
      "Global Best Fitness: 0.9987\n",
      "Iteration time: 2.43 minutes\n",
      "Iteration 8/20\n"
     ]
    },
    {
     "name": "stderr",
     "output_type": "stream",
     "text": [
      "[Parallel(n_jobs=-1)]: Done   3 out of  16 | elapsed:  1.7min remaining:  7.4min\n",
      "[Parallel(n_jobs=-1)]: Done   5 out of  16 | elapsed:  2.1min remaining:  4.6min\n",
      "[Parallel(n_jobs=-1)]: Done   7 out of  16 | elapsed:  2.2min remaining:  2.8min\n",
      "[Parallel(n_jobs=-1)]: Done   9 out of  16 | elapsed:  2.2min remaining:  1.7min\n",
      "[Parallel(n_jobs=-1)]: Done  11 out of  16 | elapsed:  2.3min remaining:  1.0min\n",
      "[Parallel(n_jobs=-1)]: Done  13 out of  16 | elapsed:  2.3min remaining:   32.3s\n",
      "[Parallel(n_jobs=-1)]: Done  16 out of  16 | elapsed:  2.6min finished\n",
      "[Parallel(n_jobs=-1)]: Using backend LokyBackend with 16 concurrent workers.\n"
     ]
    },
    {
     "name": "stdout",
     "output_type": "stream",
     "text": [
      "Global Best Fitness: 0.9987\n",
      "Iteration time: 2.63 minutes\n",
      "Iteration 9/20\n"
     ]
    },
    {
     "name": "stderr",
     "output_type": "stream",
     "text": [
      "[Parallel(n_jobs=-1)]: Done   3 out of  16 | elapsed:  1.7min remaining:  7.3min\n",
      "[Parallel(n_jobs=-1)]: Done   5 out of  16 | elapsed:  1.7min remaining:  3.8min\n",
      "[Parallel(n_jobs=-1)]: Done   7 out of  16 | elapsed:  1.9min remaining:  2.4min\n",
      "[Parallel(n_jobs=-1)]: Done   9 out of  16 | elapsed:  1.9min remaining:  1.5min\n",
      "[Parallel(n_jobs=-1)]: Done  11 out of  16 | elapsed:  2.0min remaining:   54.7s\n",
      "[Parallel(n_jobs=-1)]: Done  13 out of  16 | elapsed:  2.1min remaining:   28.5s\n",
      "[Parallel(n_jobs=-1)]: Done  16 out of  16 | elapsed:  2.6min finished\n",
      "[Parallel(n_jobs=-1)]: Using backend LokyBackend with 16 concurrent workers.\n"
     ]
    },
    {
     "name": "stdout",
     "output_type": "stream",
     "text": [
      "Global Best Fitness: 0.9987\n",
      "Iteration time: 2.58 minutes\n",
      "Iteration 10/20\n"
     ]
    },
    {
     "name": "stderr",
     "output_type": "stream",
     "text": [
      "[Parallel(n_jobs=-1)]: Done   3 out of  16 | elapsed:  1.7min remaining:  7.2min\n",
      "[Parallel(n_jobs=-1)]: Done   5 out of  16 | elapsed:  1.9min remaining:  4.1min\n",
      "[Parallel(n_jobs=-1)]: Done   7 out of  16 | elapsed:  2.0min remaining:  2.5min\n",
      "[Parallel(n_jobs=-1)]: Done   9 out of  16 | elapsed:  2.1min remaining:  1.6min\n",
      "[Parallel(n_jobs=-1)]: Done  11 out of  16 | elapsed:  2.1min remaining:   57.8s\n",
      "[Parallel(n_jobs=-1)]: Done  13 out of  16 | elapsed:  2.5min remaining:   34.9s\n"
     ]
    },
    {
     "name": "stdout",
     "output_type": "stream",
     "text": [
      "Global Best Fitness: 0.9987\n",
      "Iteration time: 2.80 minutes\n"
     ]
    },
    {
     "name": "stderr",
     "output_type": "stream",
     "text": [
      "[Parallel(n_jobs=-1)]: Done  16 out of  16 | elapsed:  2.8min finished\n"
     ]
    }
   ],
   "source": [
    "rf_pso_best_pos_6, rf_pso_best_fitness_6  = pso_feature_selection(X_train=X_train, X_test=X_test, y_train=y_train_6, y_test=y_test_6, parallel=True)"
   ]
  },
  {
   "cell_type": "code",
   "execution_count": 19,
   "metadata": {},
   "outputs": [
    {
     "name": "stdout",
     "output_type": "stream",
     "text": [
      "              precision    recall  f1-score       support\n",
      "Benign         0.964149  0.998298  0.980927  3.760700e+04\n",
      "DDos           0.999768  0.999966  0.999867  1.066764e+06\n",
      "Dos            0.999918  0.999386  0.999652  4.166760e+05\n",
      "MQTT           0.999937  0.993534  0.996725  6.371500e+04\n",
      "Recon          0.992357  0.971130  0.981629  2.767600e+04\n",
      "Spoofing       0.901547  0.735092  0.809855  1.744000e+03\n",
      "accuracy       0.998743  0.998743  0.998743  9.987430e-01\n",
      "macro avg      0.976279  0.949568  0.961442  1.614182e+06\n",
      "weighted avg   0.998750  0.998743  0.998728  1.614182e+06\n",
      "12.492612600326538\n"
     ]
    }
   ],
   "source": [
    "rf_pso_features_6 = np.sum(rf_pso_best_pos_6)\n",
    "selected_features = np.where(rf_pso_best_pos_6 == 1)[0]\n",
    "rf_pso_report_6, rf_pso_time_6, y_pred_rf_pso_6 = calculate_benchmark(X_train=X_train[:, selected_features], X_test=X_test[:, selected_features], y_train=y_train_6, y_test=y_test_6)\n",
    "print(pd.DataFrame(rf_pso_report_6).transpose())\n",
    "print(rf_pso_time_6)"
   ]
  },
  {
   "cell_type": "code",
   "execution_count": 20,
   "metadata": {},
   "outputs": [
    {
     "data": {
      "image/png": "[encoded data removed]",
      "text/plain": [
       "<Figure size 1000x700 with 2 Axes>"
      ]
     },
     "metadata": {},
     "output_type": "display_data"
    }
   ],
   "source": [
    "cm_rf_pso_6 = confusion_matrix(y_test_6, y_pred_rf_pso_6)\n",
    "\n",
    "# get names for confusion matrix\n",
    "df_6 = pd.DataFrame(rf_pso_report_6)\n",
    "column_names_6 = df_6.columns.tolist()[0:2]\n",
    "\n",
    "# visualize the confusion matrix using seaborn\n",
    "plt.figure(figsize=(10, 7))\n",
    "sns.heatmap(cm_rf_pso_6,\n",
    "            annot=True,\n",
    "            fmt='d',\n",
    "            cmap='Blues',\n",
    "            xticklabels=column_names_6,\n",
    "            yticklabels=column_names_6)\n",
    "plt.xlabel('Predicted Labels')\n",
    "plt.ylabel('True Labels')\n",
    "plt.title('Confusion Matrix')\n",
    "plt.show()"
   ]
  },
  {
   "cell_type": "markdown",
   "metadata": {},
   "source": [
    "#### 19 Classes"
   ]
  },
  {
   "cell_type": "code",
   "execution_count": 21,
   "metadata": {},
   "outputs": [
    {
     "name": "stderr",
     "output_type": "stream",
     "text": [
      "[Parallel(n_jobs=-1)]: Using backend LokyBackend with 16 concurrent workers.\n",
      "[Parallel(n_jobs=-1)]: Done   3 out of  16 | elapsed:  1.7min remaining:  7.4min\n",
      "[Parallel(n_jobs=-1)]: Done   5 out of  16 | elapsed:  1.8min remaining:  4.0min\n",
      "[Parallel(n_jobs=-1)]: Done   7 out of  16 | elapsed:  1.9min remaining:  2.5min\n",
      "[Parallel(n_jobs=-1)]: Done   9 out of  16 | elapsed:  2.0min remaining:  1.6min\n",
      "[Parallel(n_jobs=-1)]: Done  11 out of  16 | elapsed:  2.2min remaining:   59.3s\n",
      "[Parallel(n_jobs=-1)]: Done  13 out of  16 | elapsed:  2.2min remaining:   31.1s\n",
      "[Parallel(n_jobs=-1)]: Done  16 out of  16 | elapsed:  2.5min finished\n",
      "[Parallel(n_jobs=-1)]: Using backend LokyBackend with 16 concurrent workers.\n"
     ]
    },
    {
     "name": "stdout",
     "output_type": "stream",
     "text": [
      "Initialization time: 2.46 minutes\n",
      "Iteration 1/20\n"
     ]
    },
    {
     "name": "stderr",
     "output_type": "stream",
     "text": [
      "[Parallel(n_jobs=-1)]: Done   3 out of  16 | elapsed:  1.6min remaining:  6.9min\n",
      "[Parallel(n_jobs=-1)]: Done   5 out of  16 | elapsed:  1.9min remaining:  4.1min\n",
      "[Parallel(n_jobs=-1)]: Done   7 out of  16 | elapsed:  1.9min remaining:  2.5min\n",
      "[Parallel(n_jobs=-1)]: Done   9 out of  16 | elapsed:  2.0min remaining:  1.6min\n",
      "[Parallel(n_jobs=-1)]: Done  11 out of  16 | elapsed:  2.2min remaining:   59.0s\n",
      "[Parallel(n_jobs=-1)]: Done  13 out of  16 | elapsed:  2.3min remaining:   31.6s\n",
      "[Parallel(n_jobs=-1)]: Done  16 out of  16 | elapsed:  2.5min finished\n",
      "[Parallel(n_jobs=-1)]: Using backend LokyBackend with 16 concurrent workers.\n"
     ]
    },
    {
     "name": "stdout",
     "output_type": "stream",
     "text": [
      "Global Best Fitness: 0.9951\n",
      "Iteration time: 2.50 minutes\n",
      "Iteration 2/20\n"
     ]
    },
    {
     "name": "stderr",
     "output_type": "stream",
     "text": [
      "[Parallel(n_jobs=-1)]: Done   3 out of  16 | elapsed:  1.6min remaining:  6.8min\n",
      "[Parallel(n_jobs=-1)]: Done   5 out of  16 | elapsed:  1.9min remaining:  4.3min\n",
      "[Parallel(n_jobs=-1)]: Done   7 out of  16 | elapsed:  2.0min remaining:  2.6min\n",
      "[Parallel(n_jobs=-1)]: Done   9 out of  16 | elapsed:  2.1min remaining:  1.6min\n",
      "[Parallel(n_jobs=-1)]: Done  11 out of  16 | elapsed:  2.1min remaining:   57.4s\n",
      "[Parallel(n_jobs=-1)]: Done  13 out of  16 | elapsed:  2.3min remaining:   32.3s\n",
      "[Parallel(n_jobs=-1)]: Done  16 out of  16 | elapsed:  2.7min finished\n",
      "[Parallel(n_jobs=-1)]: Using backend LokyBackend with 16 concurrent workers.\n"
     ]
    },
    {
     "name": "stdout",
     "output_type": "stream",
     "text": [
      "Global Best Fitness: 0.9965\n",
      "Iteration time: 2.74 minutes\n",
      "Iteration 3/20\n"
     ]
    },
    {
     "name": "stderr",
     "output_type": "stream",
     "text": [
      "[Parallel(n_jobs=-1)]: Done   3 out of  16 | elapsed:  1.9min remaining:  8.2min\n",
      "[Parallel(n_jobs=-1)]: Done   5 out of  16 | elapsed:  2.2min remaining:  4.7min\n",
      "[Parallel(n_jobs=-1)]: Done   7 out of  16 | elapsed:  2.2min remaining:  2.8min\n",
      "[Parallel(n_jobs=-1)]: Done   9 out of  16 | elapsed:  2.2min remaining:  1.7min\n",
      "[Parallel(n_jobs=-1)]: Done  11 out of  16 | elapsed:  2.3min remaining:  1.0min\n",
      "[Parallel(n_jobs=-1)]: Done  13 out of  16 | elapsed:  2.3min remaining:   32.2s\n",
      "[Parallel(n_jobs=-1)]: Done  16 out of  16 | elapsed:  2.7min finished\n",
      "[Parallel(n_jobs=-1)]: Using backend LokyBackend with 16 concurrent workers.\n"
     ]
    },
    {
     "name": "stdout",
     "output_type": "stream",
     "text": [
      "Global Best Fitness: 0.9965\n",
      "Iteration time: 2.73 minutes\n",
      "Iteration 4/20\n"
     ]
    },
    {
     "name": "stderr",
     "output_type": "stream",
     "text": [
      "[Parallel(n_jobs=-1)]: Done   3 out of  16 | elapsed:  1.5min remaining:  6.5min\n",
      "[Parallel(n_jobs=-1)]: Done   5 out of  16 | elapsed:  1.7min remaining:  3.7min\n",
      "[Parallel(n_jobs=-1)]: Done   7 out of  16 | elapsed:  1.7min remaining:  2.2min\n",
      "[Parallel(n_jobs=-1)]: Done   9 out of  16 | elapsed:  1.8min remaining:  1.4min\n",
      "[Parallel(n_jobs=-1)]: Done  11 out of  16 | elapsed:  1.9min remaining:   50.8s\n",
      "[Parallel(n_jobs=-1)]: Done  13 out of  16 | elapsed:  2.0min remaining:   28.1s\n",
      "[Parallel(n_jobs=-1)]: Done  16 out of  16 | elapsed:  2.7min finished\n",
      "[Parallel(n_jobs=-1)]: Using backend LokyBackend with 16 concurrent workers.\n"
     ]
    },
    {
     "name": "stdout",
     "output_type": "stream",
     "text": [
      "Global Best Fitness: 0.9965\n",
      "Iteration time: 2.69 minutes\n",
      "Iteration 5/20\n"
     ]
    },
    {
     "name": "stderr",
     "output_type": "stream",
     "text": [
      "[Parallel(n_jobs=-1)]: Done   3 out of  16 | elapsed:  1.7min remaining:  7.4min\n",
      "[Parallel(n_jobs=-1)]: Done   5 out of  16 | elapsed:  2.0min remaining:  4.3min\n",
      "[Parallel(n_jobs=-1)]: Done   7 out of  16 | elapsed:  2.1min remaining:  2.7min\n",
      "[Parallel(n_jobs=-1)]: Done   9 out of  16 | elapsed:  2.1min remaining:  1.6min\n",
      "[Parallel(n_jobs=-1)]: Done  11 out of  16 | elapsed:  2.2min remaining:   59.1s\n",
      "[Parallel(n_jobs=-1)]: Done  13 out of  16 | elapsed:  2.3min remaining:   32.4s\n",
      "[Parallel(n_jobs=-1)]: Done  16 out of  16 | elapsed:  2.6min finished\n",
      "[Parallel(n_jobs=-1)]: Using backend LokyBackend with 16 concurrent workers.\n"
     ]
    },
    {
     "name": "stdout",
     "output_type": "stream",
     "text": [
      "Global Best Fitness: 0.9967\n",
      "Iteration time: 2.63 minutes\n",
      "Iteration 6/20\n"
     ]
    },
    {
     "name": "stderr",
     "output_type": "stream",
     "text": [
      "[Parallel(n_jobs=-1)]: Done   3 out of  16 | elapsed:  1.7min remaining:  7.4min\n",
      "[Parallel(n_jobs=-1)]: Done   5 out of  16 | elapsed:  1.8min remaining:  3.9min\n",
      "[Parallel(n_jobs=-1)]: Done   7 out of  16 | elapsed:  1.8min remaining:  2.4min\n",
      "[Parallel(n_jobs=-1)]: Done   9 out of  16 | elapsed:  1.9min remaining:  1.5min\n",
      "[Parallel(n_jobs=-1)]: Done  11 out of  16 | elapsed:  2.0min remaining:   55.3s\n",
      "[Parallel(n_jobs=-1)]: Done  13 out of  16 | elapsed:  2.1min remaining:   29.7s\n",
      "[Parallel(n_jobs=-1)]: Done  16 out of  16 | elapsed:  2.3min finished\n",
      "[Parallel(n_jobs=-1)]: Using backend LokyBackend with 16 concurrent workers.\n"
     ]
    },
    {
     "name": "stdout",
     "output_type": "stream",
     "text": [
      "Global Best Fitness: 0.9973\n",
      "Iteration time: 2.32 minutes\n",
      "Iteration 7/20\n"
     ]
    },
    {
     "name": "stderr",
     "output_type": "stream",
     "text": [
      "[Parallel(n_jobs=-1)]: Done   3 out of  16 | elapsed:  1.4min remaining:  6.2min\n",
      "[Parallel(n_jobs=-1)]: Done   5 out of  16 | elapsed:  1.6min remaining:  3.6min\n",
      "[Parallel(n_jobs=-1)]: Done   7 out of  16 | elapsed:  1.8min remaining:  2.3min\n",
      "[Parallel(n_jobs=-1)]: Done   9 out of  16 | elapsed:  1.8min remaining:  1.4min\n",
      "[Parallel(n_jobs=-1)]: Done  11 out of  16 | elapsed:  1.9min remaining:   51.2s\n",
      "[Parallel(n_jobs=-1)]: Done  13 out of  16 | elapsed:  2.0min remaining:   27.5s\n",
      "[Parallel(n_jobs=-1)]: Done  16 out of  16 | elapsed:  2.4min finished\n",
      "[Parallel(n_jobs=-1)]: Using backend LokyBackend with 16 concurrent workers.\n"
     ]
    },
    {
     "name": "stdout",
     "output_type": "stream",
     "text": [
      "Global Best Fitness: 0.9973\n",
      "Iteration time: 2.37 minutes\n",
      "Iteration 8/20\n"
     ]
    },
    {
     "name": "stderr",
     "output_type": "stream",
     "text": [
      "[Parallel(n_jobs=-1)]: Done   3 out of  16 | elapsed:  1.8min remaining:  7.6min\n",
      "[Parallel(n_jobs=-1)]: Done   5 out of  16 | elapsed:  1.9min remaining:  4.1min\n",
      "[Parallel(n_jobs=-1)]: Done   7 out of  16 | elapsed:  1.9min remaining:  2.4min\n",
      "[Parallel(n_jobs=-1)]: Done   9 out of  16 | elapsed:  1.9min remaining:  1.5min\n",
      "[Parallel(n_jobs=-1)]: Done  11 out of  16 | elapsed:  2.0min remaining:   55.3s\n",
      "[Parallel(n_jobs=-1)]: Done  13 out of  16 | elapsed:  2.2min remaining:   30.4s\n",
      "[Parallel(n_jobs=-1)]: Done  16 out of  16 | elapsed:  2.3min finished\n",
      "[Parallel(n_jobs=-1)]: Using backend LokyBackend with 16 concurrent workers.\n"
     ]
    },
    {
     "name": "stdout",
     "output_type": "stream",
     "text": [
      "Global Best Fitness: 0.9973\n",
      "Iteration time: 2.26 minutes\n",
      "Iteration 9/20\n"
     ]
    },
    {
     "name": "stderr",
     "output_type": "stream",
     "text": [
      "[Parallel(n_jobs=-1)]: Done   3 out of  16 | elapsed:  1.6min remaining:  7.0min\n",
      "[Parallel(n_jobs=-1)]: Done   5 out of  16 | elapsed:  1.8min remaining:  3.9min\n",
      "[Parallel(n_jobs=-1)]: Done   7 out of  16 | elapsed:  1.8min remaining:  2.3min\n",
      "[Parallel(n_jobs=-1)]: Done   9 out of  16 | elapsed:  2.0min remaining:  1.6min\n",
      "[Parallel(n_jobs=-1)]: Done  11 out of  16 | elapsed:  2.1min remaining:   56.8s\n",
      "[Parallel(n_jobs=-1)]: Done  13 out of  16 | elapsed:  2.2min remaining:   30.6s\n",
      "[Parallel(n_jobs=-1)]: Done  16 out of  16 | elapsed:  2.4min finished\n",
      "[Parallel(n_jobs=-1)]: Using backend LokyBackend with 16 concurrent workers.\n"
     ]
    },
    {
     "name": "stdout",
     "output_type": "stream",
     "text": [
      "Global Best Fitness: 0.9973\n",
      "Iteration time: 2.44 minutes\n",
      "Iteration 10/20\n"
     ]
    },
    {
     "name": "stderr",
     "output_type": "stream",
     "text": [
      "[Parallel(n_jobs=-1)]: Done   3 out of  16 | elapsed:  1.8min remaining:  7.9min\n",
      "[Parallel(n_jobs=-1)]: Done   5 out of  16 | elapsed:  1.9min remaining:  4.2min\n",
      "[Parallel(n_jobs=-1)]: Done   7 out of  16 | elapsed:  1.9min remaining:  2.5min\n",
      "[Parallel(n_jobs=-1)]: Done   9 out of  16 | elapsed:  2.0min remaining:  1.6min\n",
      "[Parallel(n_jobs=-1)]: Done  11 out of  16 | elapsed:  2.1min remaining:   56.7s\n",
      "[Parallel(n_jobs=-1)]: Done  13 out of  16 | elapsed:  2.1min remaining:   29.6s\n",
      "[Parallel(n_jobs=-1)]: Done  16 out of  16 | elapsed:  2.4min finished\n",
      "[Parallel(n_jobs=-1)]: Using backend LokyBackend with 16 concurrent workers.\n"
     ]
    },
    {
     "name": "stdout",
     "output_type": "stream",
     "text": [
      "Global Best Fitness: 0.9973\n",
      "Iteration time: 2.40 minutes\n",
      "Iteration 11/20\n"
     ]
    },
    {
     "name": "stderr",
     "output_type": "stream",
     "text": [
      "[Parallel(n_jobs=-1)]: Done   3 out of  16 | elapsed:  1.6min remaining:  7.1min\n",
      "[Parallel(n_jobs=-1)]: Done   5 out of  16 | elapsed:  1.7min remaining:  3.8min\n",
      "[Parallel(n_jobs=-1)]: Done   7 out of  16 | elapsed:  1.9min remaining:  2.5min\n",
      "[Parallel(n_jobs=-1)]: Done   9 out of  16 | elapsed:  2.0min remaining:  1.6min\n",
      "[Parallel(n_jobs=-1)]: Done  11 out of  16 | elapsed:  2.1min remaining:   56.5s\n",
      "[Parallel(n_jobs=-1)]: Done  13 out of  16 | elapsed:  2.1min remaining:   29.2s\n",
      "[Parallel(n_jobs=-1)]: Done  16 out of  16 | elapsed:  2.2min finished\n",
      "[Parallel(n_jobs=-1)]: Using backend LokyBackend with 16 concurrent workers.\n"
     ]
    },
    {
     "name": "stdout",
     "output_type": "stream",
     "text": [
      "Global Best Fitness: 0.9973\n",
      "Iteration time: 2.23 minutes\n",
      "Iteration 12/20\n"
     ]
    },
    {
     "name": "stderr",
     "output_type": "stream",
     "text": [
      "[Parallel(n_jobs=-1)]: Done   3 out of  16 | elapsed:  1.5min remaining:  6.6min\n",
      "[Parallel(n_jobs=-1)]: Done   5 out of  16 | elapsed:  1.6min remaining:  3.6min\n",
      "[Parallel(n_jobs=-1)]: Done   7 out of  16 | elapsed:  1.8min remaining:  2.3min\n",
      "[Parallel(n_jobs=-1)]: Done   9 out of  16 | elapsed:  1.9min remaining:  1.5min\n",
      "[Parallel(n_jobs=-1)]: Done  11 out of  16 | elapsed:  2.0min remaining:   53.9s\n",
      "[Parallel(n_jobs=-1)]: Done  13 out of  16 | elapsed:  2.0min remaining:   27.8s\n",
      "[Parallel(n_jobs=-1)]: Done  16 out of  16 | elapsed:  2.3min finished\n",
      "[Parallel(n_jobs=-1)]: Using backend LokyBackend with 16 concurrent workers.\n"
     ]
    },
    {
     "name": "stdout",
     "output_type": "stream",
     "text": [
      "Global Best Fitness: 0.9973\n",
      "Iteration time: 2.32 minutes\n",
      "Iteration 13/20\n"
     ]
    },
    {
     "name": "stderr",
     "output_type": "stream",
     "text": [
      "[Parallel(n_jobs=-1)]: Done   3 out of  16 | elapsed:  1.7min remaining:  7.2min\n",
      "[Parallel(n_jobs=-1)]: Done   5 out of  16 | elapsed:  1.9min remaining:  4.2min\n",
      "[Parallel(n_jobs=-1)]: Done   7 out of  16 | elapsed:  1.9min remaining:  2.5min\n",
      "[Parallel(n_jobs=-1)]: Done   9 out of  16 | elapsed:  2.0min remaining:  1.6min\n",
      "[Parallel(n_jobs=-1)]: Done  11 out of  16 | elapsed:  2.1min remaining:   56.9s\n",
      "[Parallel(n_jobs=-1)]: Done  13 out of  16 | elapsed:  2.1min remaining:   29.4s\n",
      "[Parallel(n_jobs=-1)]: Done  16 out of  16 | elapsed:  2.5min finished\n",
      "[Parallel(n_jobs=-1)]: Using backend LokyBackend with 16 concurrent workers.\n"
     ]
    },
    {
     "name": "stdout",
     "output_type": "stream",
     "text": [
      "Global Best Fitness: 0.9973\n",
      "Iteration time: 2.48 minutes\n",
      "Iteration 14/20\n"
     ]
    },
    {
     "name": "stderr",
     "output_type": "stream",
     "text": [
      "[Parallel(n_jobs=-1)]: Done   3 out of  16 | elapsed:  1.6min remaining:  7.0min\n",
      "[Parallel(n_jobs=-1)]: Done   5 out of  16 | elapsed:  1.9min remaining:  4.2min\n",
      "[Parallel(n_jobs=-1)]: Done   7 out of  16 | elapsed:  2.0min remaining:  2.6min\n",
      "[Parallel(n_jobs=-1)]: Done   9 out of  16 | elapsed:  2.1min remaining:  1.7min\n",
      "[Parallel(n_jobs=-1)]: Done  11 out of  16 | elapsed:  2.2min remaining:   59.6s\n",
      "[Parallel(n_jobs=-1)]: Done  13 out of  16 | elapsed:  2.3min remaining:   31.4s\n",
      "[Parallel(n_jobs=-1)]: Done  16 out of  16 | elapsed:  2.7min finished\n",
      "[Parallel(n_jobs=-1)]: Using backend LokyBackend with 16 concurrent workers.\n"
     ]
    },
    {
     "name": "stdout",
     "output_type": "stream",
     "text": [
      "Global Best Fitness: 0.9973\n",
      "Iteration time: 2.75 minutes\n",
      "Iteration 15/20\n"
     ]
    },
    {
     "name": "stderr",
     "output_type": "stream",
     "text": [
      "[Parallel(n_jobs=-1)]: Done   3 out of  16 | elapsed:  1.6min remaining:  6.9min\n",
      "[Parallel(n_jobs=-1)]: Done   5 out of  16 | elapsed:  1.7min remaining:  3.8min\n",
      "[Parallel(n_jobs=-1)]: Done   7 out of  16 | elapsed:  1.8min remaining:  2.3min\n",
      "[Parallel(n_jobs=-1)]: Done   9 out of  16 | elapsed:  1.8min remaining:  1.4min\n",
      "[Parallel(n_jobs=-1)]: Done  11 out of  16 | elapsed:  1.9min remaining:   51.6s\n",
      "[Parallel(n_jobs=-1)]: Done  13 out of  16 | elapsed:  2.1min remaining:   29.7s\n",
      "[Parallel(n_jobs=-1)]: Done  16 out of  16 | elapsed:  2.4min finished\n",
      "[Parallel(n_jobs=-1)]: Using backend LokyBackend with 16 concurrent workers.\n"
     ]
    },
    {
     "name": "stdout",
     "output_type": "stream",
     "text": [
      "Global Best Fitness: 0.9973\n",
      "Iteration time: 2.40 minutes\n",
      "Iteration 16/20\n"
     ]
    },
    {
     "name": "stderr",
     "output_type": "stream",
     "text": [
      "[Parallel(n_jobs=-1)]: Done   3 out of  16 | elapsed:  1.8min remaining:  7.8min\n",
      "[Parallel(n_jobs=-1)]: Done   5 out of  16 | elapsed:  1.8min remaining:  4.0min\n",
      "[Parallel(n_jobs=-1)]: Done   7 out of  16 | elapsed:  1.9min remaining:  2.4min\n",
      "[Parallel(n_jobs=-1)]: Done   9 out of  16 | elapsed:  1.9min remaining:  1.5min\n",
      "[Parallel(n_jobs=-1)]: Done  11 out of  16 | elapsed:  2.0min remaining:   54.7s\n",
      "[Parallel(n_jobs=-1)]: Done  13 out of  16 | elapsed:  2.2min remaining:   30.1s\n"
     ]
    },
    {
     "name": "stdout",
     "output_type": "stream",
     "text": [
      "Global Best Fitness: 0.9973\n",
      "Iteration time: 2.71 minutes\n"
     ]
    },
    {
     "name": "stderr",
     "output_type": "stream",
     "text": [
      "[Parallel(n_jobs=-1)]: Done  16 out of  16 | elapsed:  2.7min finished\n"
     ]
    }
   ],
   "source": [
    "rf_pso_best_pos_19, rf_pso_best_fitness_19 = pso_feature_selection(X_train=X_train, X_test=X_test, y_train=y_train_19, y_test=y_test_19, parallel=True)"
   ]
  },
  {
   "cell_type": "code",
   "execution_count": 22,
   "metadata": {},
   "outputs": [
    {
     "name": "stdout",
     "output_type": "stream",
     "text": [
      "                    precision    recall  f1-score       support\n",
      "ARP_spoofing         0.881714  0.790711  0.833736  1.744000e+03\n",
      "Benign               0.959850  0.998670  0.978875  3.760700e+04\n",
      "DDoS_ICMP            0.999323  0.999963  0.999643  3.496990e+05\n",
      "DDoS_SYN             0.999791  0.998880  0.999336  1.723970e+05\n",
      "DDoS_TCP             0.999825  0.999836  0.999830  1.825980e+05\n",
      "DDoS_UDP             0.999268  0.999478  0.999373  3.620700e+05\n",
      "DDoS_connect_flood   0.999857  0.999881  0.999869  4.191600e+04\n",
      "DDoS_publish_flood   0.998799  0.988474  0.993610  8.416000e+03\n",
      "DoS_ICMP             0.999766  0.999086  0.999426  9.843200e+04\n",
      "DoS_SYN              0.999716  0.999625  0.999670  9.859500e+04\n",
      "DoS_TCP              0.999878  0.999890  0.999884  8.209600e+04\n",
      "DoS_UDP              0.999731  0.999178  0.999455  1.375530e+05\n",
      "DoS_connect_flood    0.999039  0.996487  0.997761  3.131000e+03\n",
      "DoS_publish_flood    0.989529  1.000000  0.994737  8.505000e+03\n",
      "Malformed_date       0.997604  0.714940  0.832944  1.747000e+03\n",
      "OS_scan              0.887636  0.616067  0.727329  3.834000e+03\n",
      "Port_scan            0.938870  0.988507  0.963049  2.262200e+04\n",
      "VulScan              0.966102  0.220503  0.359055  1.034000e+03\n",
      "ping_sweep           0.976000  0.655914  0.784566  1.860000e+02\n",
      "accuracy             0.997335  0.997335  0.997335  9.973349e-01\n",
      "macro avg            0.978542  0.892952  0.919060  1.614182e+06\n",
      "weighted avg         0.997305  0.997335  0.997062  1.614182e+06\n",
      "12.000800609588623\n"
     ]
    }
   ],
   "source": [
    "rf_pso_features_19 = np.sum(rf_pso_best_pos_19)\n",
    "selected_features = np.where(rf_pso_best_pos_19 == 1)[0]\n",
    "rf_pso_report_19, rf_pso_time_19, y_pred_rf_pso_19 = calculate_benchmark(X_train=X_train[:, selected_features], X_test=X_test[:, selected_features], y_train=y_train_19, y_test=y_test_19)\n",
    "print(pd.DataFrame(rf_pso_report_19).transpose())\n",
    "print(rf_pso_time_19)"
   ]
  },
  {
   "cell_type": "code",
   "execution_count": 24,
   "metadata": {},
   "outputs": [
    {
     "data": {
      "image/png": "[encoded data removed]",
      "text/plain": [
       "<Figure size 1000x700 with 2 Axes>"
      ]
     },
     "metadata": {},
     "output_type": "display_data"
    }
   ],
   "source": [
    "cm_rf_pso_19 = confusion_matrix(y_test_19, y_pred_rf_pso_19)\n",
    "\n",
    "# get names for confusion matrix\n",
    "df_19 = pd.DataFrame(rf_pso_report_19)\n",
    "column_names_19 = df_19.columns.tolist()[0:2]\n",
    "\n",
    "# visualize the confusion matrix using seaborn\n",
    "plt.figure(figsize=(10, 7))\n",
    "sns.heatmap(cm_rf_pso_19,\n",
    "            annot=True,\n",
    "            fmt='d',\n",
    "            cmap='Blues',\n",
    "            xticklabels=column_names_19,\n",
    "            yticklabels=column_names_19)\n",
    "plt.xlabel('Predicted Labels')\n",
    "plt.ylabel('True Labels')\n",
    "plt.title('Confusion Matrix')\n",
    "plt.show()"
   ]
  },
  {
   "cell_type": "markdown",
   "metadata": {},
   "source": [
    "## Results"
   ]
  },
  {
   "cell_type": "code",
   "execution_count": 25,
   "metadata": {},
   "outputs": [],
   "source": [
    "current_datetime = datetime.datetime.now().strftime(\"%Y-%m-%d_%H:%M:%S\")\n",
    "results_folder = f\"results_data_{current_datetime}\"\n",
    "\n",
    "if not os.path.exists(results_folder):\n",
    "    os.makedirs(results_folder)"
   ]
  },
  {
   "cell_type": "code",
   "execution_count": 26,
   "metadata": {},
   "outputs": [],
   "source": [
    "data_to_save = {\n",
    "    'rf_pso_report_2': rf_pso_report_2,\n",
    "    'rf_pso_time_2': rf_pso_time_2,\n",
    "    'rf_pso_features_2': rf_pso_features_2,\n",
    "    'rf_pso_best_pos_2': rf_pso_best_pos_2,\n",
    "    'rf_pso_report_6': rf_pso_report_6,\n",
    "    'rf_pso_time_6': rf_pso_time_6,\n",
    "    'rf_pso_features_6': rf_pso_features_6,\n",
    "    'rf_pso_best_pos_6': rf_pso_best_pos_6,\n",
    "    'rf_pso_report_19': rf_pso_report_19,\n",
    "    'rf_pso_time_19': rf_pso_time_19,\n",
    "    'rf_pso_features_19': rf_pso_features_19,\n",
    "    'rf_pso_best_pos_19': rf_pso_best_pos_19,\n",
    "    'cm_rf_pso_2': cm_rf_pso_2,\n",
    "    'cm_rf_pso_6': cm_rf_pso_6,\n",
    "    'cm_rf_pso_19': cm_rf_pso_19\n",
    "}"
   ]
  },
  {
   "cell_type": "code",
   "execution_count": 27,
   "metadata": {},
   "outputs": [],
   "source": [
    "for name, data in data_to_save.items():\n",
    "    file_path = os.path.join(results_folder, f'{name}.pkl')\n",
    "    with open(file_path, 'wb') as f:\n",
    "        pickle.dump(data, f)"
   ]
  },
  {
   "cell_type": "code",
   "execution_count": 28,
   "metadata": {},
   "outputs": [],
   "source": [
    "for key in data_to_save:\n",
    "    if isinstance(data_to_save[key], np.integer):\n",
    "        data_to_save[key] = int(data_to_save[key])\n",
    "    elif isinstance(data_to_save[key], np.ndarray):\n",
    "        data_to_save[key] = data_to_save[key].tolist()\n",
    "        \n",
    "for name, data in data_to_save.items():\n",
    "    file_path = os.path.join(results_folder, f'{name}.json') \n",
    "    with open(file_path, 'w') as f:\n",
    "        json.dump(data, f, indent=4)"
   ]
  },
  {
   "cell_type": "markdown",
   "metadata": {},
   "source": [
    "## Notebook Duration"
   ]
  },
  {
   "cell_type": "code",
   "execution_count": 29,
   "metadata": {},
   "outputs": [
    {
     "name": "stdout",
     "output_type": "stream",
     "text": [
      "Notebook Duration: 106.40062719583511 minutes\n"
     ]
    }
   ],
   "source": [
    "notebook_end_time = time.time()\n",
    "print(f\"Notebook Duration: {(notebook_end_time - notebook_start_time) / 60} minutes\")"
   ]
  }
 ],
 "metadata": {
  "kernelspec": {
   "display_name": "Python 3 (ipykernel)",
   "language": "python",
   "name": "python3"
  },
  "language_info": {
   "codemirror_mode": {
    "name": "ipython",
    "version": 3
   },
   "file_extension": ".py",
   "mimetype": "text/x-python",
   "name": "python",
   "nbconvert_exporter": "python",
   "pygments_lexer": "ipython3",
   "version": "3.11.10"
  },
  "vscode": {
   "interpreter": {
    "hash": "6dd43ec3747b067f8c766f9497dca460159497da42e0ff5304d716a8bcc0d21f"
   }
  }
 },
 "nbformat": 4,
 "nbformat_minor": 4
}
