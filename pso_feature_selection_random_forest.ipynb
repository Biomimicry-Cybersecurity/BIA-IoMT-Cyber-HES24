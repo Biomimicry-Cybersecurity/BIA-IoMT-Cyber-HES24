{
 "cells": [
  {
   "cell_type": "markdown",
   "metadata": {},
   "source": [
    "## Imports and Miscellaneous"
   ]
  },
  {
   "cell_type": "markdown",
   "metadata": {},
   "source": [
    "This code can be used to pip install seaborn in environments that don't have it available."
   ]
  },
  {
   "cell_type": "code",
   "execution_count": 1,
   "metadata": {},
   "outputs": [
    {
     "name": "stdout",
     "output_type": "stream",
     "text": [
      "Requirement already satisfied: seaborn in /opt/conda/lib/python3.11/site-packages (0.13.2)\n",
      "Requirement already satisfied: numpy!=1.24.0,>=1.20 in /opt/conda/lib/python3.11/site-packages (from seaborn) (1.26.4)\n",
      "Requirement already satisfied: pandas>=1.2 in /opt/conda/lib/python3.11/site-packages (from seaborn) (2.2.3)\n",
      "Requirement already satisfied: matplotlib!=3.6.1,>=3.4 in /opt/conda/lib/python3.11/site-packages (from seaborn) (3.9.2)\n",
      "Requirement already satisfied: contourpy>=1.0.1 in /opt/conda/lib/python3.11/site-packages (from matplotlib!=3.6.1,>=3.4->seaborn) (1.3.0)\n",
      "Requirement already satisfied: cycler>=0.10 in /opt/conda/lib/python3.11/site-packages (from matplotlib!=3.6.1,>=3.4->seaborn) (0.12.1)\n",
      "Requirement already satisfied: fonttools>=4.22.0 in /opt/conda/lib/python3.11/site-packages (from matplotlib!=3.6.1,>=3.4->seaborn) (4.54.1)\n",
      "Requirement already satisfied: kiwisolver>=1.3.1 in /opt/conda/lib/python3.11/site-packages (from matplotlib!=3.6.1,>=3.4->seaborn) (1.4.7)\n",
      "Requirement already satisfied: packaging>=20.0 in /opt/conda/lib/python3.11/site-packages (from matplotlib!=3.6.1,>=3.4->seaborn) (24.1)\n",
      "Requirement already satisfied: pillow>=8 in /opt/conda/lib/python3.11/site-packages (from matplotlib!=3.6.1,>=3.4->seaborn) (10.4.0)\n",
      "Requirement already satisfied: pyparsing>=2.3.1 in /opt/conda/lib/python3.11/site-packages (from matplotlib!=3.6.1,>=3.4->seaborn) (3.2.0)\n",
      "Requirement already satisfied: python-dateutil>=2.7 in /opt/conda/lib/python3.11/site-packages (from matplotlib!=3.6.1,>=3.4->seaborn) (2.9.0)\n",
      "Requirement already satisfied: pytz>=2020.1 in /opt/conda/lib/python3.11/site-packages (from pandas>=1.2->seaborn) (2023.3)\n",
      "Requirement already satisfied: tzdata>=2022.7 in /opt/conda/lib/python3.11/site-packages (from pandas>=1.2->seaborn) (2024.2)\n",
      "Requirement already satisfied: six>=1.5 in /opt/conda/lib/python3.11/site-packages (from python-dateutil>=2.7->matplotlib!=3.6.1,>=3.4->seaborn) (1.16.0)\n"
     ]
    }
   ],
   "source": [
    "!pip install seaborn"
   ]
  },
  {
   "cell_type": "code",
   "execution_count": 2,
   "metadata": {},
   "outputs": [
    {
     "name": "stdout",
     "output_type": "stream",
     "text": [
      "Number of CPU cores: 16\n"
     ]
    }
   ],
   "source": [
    "import numpy as np\n",
    "import pandas as pd\n",
    "from sklearn.ensemble import RandomForestClassifier\n",
    "from sklearn.metrics import classification_report, confusion_matrix, accuracy_score\n",
    "from sklearn.preprocessing import LabelEncoder\n",
    "from joblib import Parallel, delayed, parallel_backend, parallel_config\n",
    "from pathlib import Path\n",
    "import time\n",
    "import multiprocessing\n",
    "import pickle\n",
    "import json\n",
    "import os\n",
    "import seaborn as sns\n",
    "import datetime\n",
    "import matplotlib.pyplot as plt\n",
    "\n",
    "%config Application.warn_ignores = FutureWarning\n",
    "\n",
    "num_cores = multiprocessing.cpu_count()\n",
    "print(f\"Number of CPU cores: {num_cores}\")"
   ]
  },
  {
   "cell_type": "markdown",
   "metadata": {},
   "source": [
    "## Notebook Start Time"
   ]
  },
  {
   "cell_type": "code",
   "execution_count": 3,
   "metadata": {},
   "outputs": [],
   "source": [
    "notebook_start_time = time.time()"
   ]
  },
  {
   "cell_type": "markdown",
   "metadata": {},
   "source": [
    "## Data"
   ]
  },
  {
   "cell_type": "markdown",
   "metadata": {},
   "source": [
    "This function creates memory mapped files for the dataset, which is useful when using multiple processes to train multiple random forest classfiers  in parallel."
   ]
  },
  {
   "cell_type": "code",
   "execution_count": 4,
   "metadata": {},
   "outputs": [],
   "source": [
    "def create_mem_map(parquet_file, data_type='train'):\n",
    "\n",
    "    df = pd.read_parquet(parquet_file)\n",
    "    scaler = MinMaxScaler()\n",
    "\n",
    "    mem_map_dir = Path('./mem_map_files')\n",
    "    mem_map_dir.mkdir(exist_ok=True)\n",
    "\n",
    "    mem_map_file_X = mem_map_dir/f'X_{data_type}.npy'\n",
    "    mem_map_file_X_scaled = mem_map_dir/f'X_{data_type}_scaled.npy'\n",
    "    mem_map_file_y_2 = mem_map_dir/f'y_{data_type}_2.npy'\n",
    "    mem_map_file_y_6 = mem_map_dir/f'y_{data_type}_6.npy'\n",
    "    mem_map_file_y_19 = mem_map_dir/f'y_{data_type}_19.npy'\n",
    "\n",
    "    X = df.drop(columns=['label', 'class_label', 'category_label', 'attack_label']).to_numpy()\n",
    "    np.save(mem_map_file_X, X)\n",
    "\n",
    "    X_scaled = scaler.fit_transform(X)\n",
    "    np.save(mem_map_file_X_scaled, X_scaled)\n",
    "\n",
    "    encoder_2 = LabelEncoder()\n",
    "    encoder_6 = LabelEncoder()\n",
    "    encoder_19 = LabelEncoder()\n",
    "\n",
    "    y_2 = encoder_2.fit_transform(df['class_label'])\n",
    "    y_6 = encoder_6.fit_transform(df['category_label'])\n",
    "    y_19 = encoder_19.fit_transform(df['attack_label'])\n",
    "\n",
    "    np.save(mem_map_file_y_2, y_2)\n",
    "    np.save(mem_map_file_y_6, y_6)\n",
    "    np.save(mem_map_file_y_19, y_19)\n",
    "\n",
    "    np.save(mem_map_dir/'encoder_2_classes.npy', encoder_2.classes_)\n",
    "    np.save(mem_map_dir/'encoder_6_classes.npy', encoder_6.classes_)\n",
    "    np.save(mem_map_dir/'encoder_19_classes.npy', encoder_19.classes_)"
   ]
  },
  {
   "cell_type": "markdown",
   "metadata": {},
   "source": [
    "Set mem_map_created to False if you want to create the memory-mapped versions of the train and test datasets. Otherwise leave as True."
   ]
  },
  {
   "cell_type": "code",
   "execution_count": 5,
   "metadata": {},
   "outputs": [],
   "source": [
    "mem_map_created = True\n",
    "\n",
    "if not mem_map_created:\n",
    "    create_mem_map('./data/cic_iomt_2024_wifi_mqtt_train.parquet', data_type='train')\n",
    "    create_mem_map('./data/cic_iomt_2024_wifi_mqtt_test.parquet', data_type='test')"
   ]
  },
  {
   "cell_type": "markdown",
   "metadata": {},
   "source": [
    "This code loads the memory-mapped datasets. "
   ]
  },
  {
   "cell_type": "code",
   "execution_count": 6,
   "metadata": {},
   "outputs": [],
   "source": [
    "mem_map_dir = Path('./mem_map_files')\n",
    "X_train = np.load(mem_map_dir/'X_train.npy', mmap_mode='r')\n",
    "\n",
    "y_train_2 = np.load(mem_map_dir/'y_train_2.npy', mmap_mode='r')\n",
    "y_train_6 = np.load(mem_map_dir/'y_train_6.npy', mmap_mode='r')\n",
    "y_train_19 = np.load(mem_map_dir/'y_train_19.npy', mmap_mode='r')\n",
    "\n",
    "\n",
    "X_test = np.load(mem_map_dir/'X_test.npy', mmap_mode='r')\n",
    "\n",
    "\n",
    "y_test_2 = np.load(mem_map_dir/'y_test_2.npy', mmap_mode='r')\n",
    "y_test_6 = np.load(mem_map_dir/'y_test_6.npy', mmap_mode='r')\n",
    "y_test_19 = np.load(mem_map_dir/'y_test_19.npy', mmap_mode='r')\n",
    "\n",
    "encoder_2_classes = np.load('./mem_map_files/encoder_2_classes.npy', allow_pickle=True)\n",
    "encoder_6_classes = np.load('./mem_map_files/encoder_6_classes.npy', allow_pickle=True)\n",
    "encoder_19_classes = np.load('./mem_map_files/encoder_19_classes.npy', allow_pickle=True)"
   ]
  },
  {
   "cell_type": "markdown",
   "metadata": {},
   "source": [
    "This code is used to determine the number of features in the dataset."
   ]
  },
  {
   "cell_type": "code",
   "execution_count": 7,
   "metadata": {},
   "outputs": [
    {
     "name": "stdout",
     "output_type": "stream",
     "text": [
      "Number of features: 45\n"
     ]
    }
   ],
   "source": [
    "n_features = X_train.shape[1]\n",
    "print(f\"Number of features: {n_features}\")"
   ]
  },
  {
   "cell_type": "markdown",
   "metadata": {},
   "source": [
    "## PSO Code"
   ]
  },
  {
   "cell_type": "markdown",
   "metadata": {},
   "source": [
    "### Bio-inspired Function"
   ]
  },
  {
   "cell_type": "markdown",
   "metadata": {},
   "source": [
    "This function is used to train a random forest classifier with set hyperparameters and random states to ensure reproducibility. It is used after PSO has determined the number of features to be used and the dataset passed to it will only contain those features. The number of classes used for the classification depends on the dataset being passed to the function and it assumes that these are consistent across y_train and y_test."
   ]
  },
  {
   "cell_type": "code",
   "execution_count": 8,
   "metadata": {},
   "outputs": [],
   "source": [
    "def calculate_bio_inspired(X_train=None, X_test=None, y_train=None, y_test=None):\n",
    "\n",
    "    classifier = RandomForestClassifier(n_estimators=10, max_depth=15, n_jobs=-1, random_state=1984)\n",
    "\n",
    "    # Calculate training time\n",
    "    train_start = time.time()\n",
    "    classifier.fit(X_train, y_train)\n",
    "    train_end = time.time()\n",
    "\n",
    "    # Calculate prediction/processing time\n",
    "    pred_start = time.time()\n",
    "    y_pred = classifier.predict(X_test)\n",
    "    pred_end = time.time()\n",
    "\n",
    "\n",
    "    if np.unique(y_train).size == 2:\n",
    "         report = classification_report(encoder_2_classes[y_test], encoder_2_classes[y_pred], output_dict=True)\n",
    "    elif np.unique(y_train).size == 6:\n",
    "        report = classification_report(encoder_6_classes[y_test], encoder_6_classes[y_pred], output_dict=True)\n",
    "    else:\n",
    "        report = classification_report(encoder_19_classes[y_test], encoder_19_classes[y_pred], output_dict=True)\n",
    "\n",
    "    return report, train_end - train_start, pred_end - pred_start, y_pred"
   ]
  },
  {
   "cell_type": "markdown",
   "metadata": {},
   "source": [
    "### Fitness Function"
   ]
  },
  {
   "cell_type": "markdown",
   "metadata": {},
   "source": [
    "This fitness function is used to determine the fitness value for each particle in the PSO implementation. The fucntion takes a \"position\" vector that has a 1 for each feature that is included in the subset to be used for the fitness calculation and a 0 for those not used. If you want fitness to use a mtric other than accuracy (e.g. f1-score), you can achieve this by adding it in place of accuracy and returning it instead of accuracy.  "
   ]
  },
  {
   "cell_type": "code",
   "execution_count": 9,
   "metadata": {},
   "outputs": [],
   "source": [
    "def fitness_function(position, X_train, X_test, y_train, y_test):\n",
    "\n",
    "    start_time_selection = time.time()\n",
    "    selected_features = np.where(position == 1)[0]\n",
    "    if len(selected_features) == 0:\n",
    "        return 0\n",
    "        \n",
    "    # n_jobs is set to 1 because the code will be run in parallel using joblib.\n",
    "    # Setting n_jobs to 1 and running it in parallel using joblib was found to be faster but if you decide to not use\n",
    "    # parallel processing through joblib in the main PSO code, you can set n_jobs to -1 here.\n",
    "    classifier = RandomForestClassifier(n_estimators=10, max_depth=15, n_jobs=1, random_state=1984)\n",
    "\n",
    "    classifier.fit(X_train[:, selected_features], y_train)\n",
    "    y_pred = classifier.predict(X_test[:, selected_features])\n",
    "    accuracy = accuracy_score(y_test, y_pred)\n",
    "\n",
    "    return accuracy"
   ]
  },
  {
   "cell_type": "markdown",
   "metadata": {},
   "source": [
    "### PSO Feature Selection Function"
   ]
  },
  {
   "cell_type": "markdown",
   "metadata": {},
   "source": [
    "This is the main PSO code. The code is set up to use the number cores as the number of particles, which worked well for us when using parallel processing but this value can be changed to suit your needs. max_same controls how many times in a row the global best accruacy after an iteration can improve by min_improvement or less compared to the prior global best before the code stops running. inertia_weight, cognitive_component, and social_component are the main PSO hyperparameters."
   ]
  },
  {
   "cell_type": "code",
   "execution_count": 10,
   "metadata": {},
   "outputs": [],
   "source": [
    "def pso_feature_selection(num_particles=num_cores, num_iterations=20, n_features=n_features, max_same=5, min_improvement=0.0001,\n",
    "                          inertia_weight=0.5, cognitive_component=1.5, social_component=1.5,\n",
    "                          X_train=None, X_test=None, y_train=None, y_test=None, parallel=True):\n",
    "\n",
    "    # PSO Initialization Phase\n",
    "    pso_start = time.time()\n",
    "    init_start = time.time()\n",
    "    np.random.seed(1984)\n",
    "    velocity = np.zeros(shape=(num_particles, n_features))\n",
    "    current_position = np.random.randint(2, size=(num_particles, n_features))\n",
    "\n",
    "    if parallel is True:\n",
    "        with parallel_backend('loky'):\n",
    "            # can change verbose level to see more info on parallel processing progress\n",
    "            current_fitness = np.array(Parallel(n_jobs=-1, batch_size=1, verbose=1)(delayed(fitness_function)(current_position[i, :], X_train, X_test, y_train, y_test) for i in range(current_position.shape[0])))\n",
    "    else:\n",
    "        current_fitness = np.array([fitness_function(current_position[i, :], X_train, X_test, y_train, y_test) for i in range(current_position.shape[0])])\n",
    "\n",
    "    personal_best_position = np.copy(current_position)\n",
    "    personal_best_fitness = np.copy(current_fitness)\n",
    "    global_best_position = personal_best_position[np.argmax(personal_best_fitness)]\n",
    "    global_best_fitness = np.max(personal_best_fitness)\n",
    "    init_end = time.time()\n",
    "    print(f\"Initialization time: {(init_end - init_start)/60:.2f} minutes\")\n",
    "\n",
    "    # Main PSO Code\n",
    "    small_improvement = 0\n",
    "    for iteration in range(num_iterations):\n",
    "        iteration_start = time.time()\n",
    "        prior_global_best_fitness = np.copy(global_best_fitness)\n",
    "        print(f\"Iteration {iteration + 1}/{num_iterations}\")\n",
    "\n",
    "        if parallel is True:\n",
    "            with parallel_backend('loky'):\n",
    "                # can change verbose level to see more info on parallel processing progress\n",
    "                current_fitness = np.array(Parallel(n_jobs=-1, batch_size=1, verbose=1)(delayed(fitness_function)(current_position[i, :], X_train, X_test, y_train, y_test) for i in range(current_position.shape[0])))\n",
    "        else:\n",
    "            current_fitness = np.array([fitness_function(current_position[i, :], X_train, X_test, y_train, y_test) for i in range(current_position.shape[0])])\n",
    "\n",
    "        fitness_map = current_fitness > personal_best_fitness\n",
    "        personal_best_fitness[fitness_map] = current_fitness[fitness_map]\n",
    "        personal_best_position[fitness_map] = current_position[fitness_map]\n",
    "        global_best_position = personal_best_position[np.argmax(personal_best_fitness)]\n",
    "        global_best_fitness = np.max(personal_best_fitness)\n",
    "        print(f\"Global Best Fitness: {global_best_fitness:.4f}\")\n",
    "\n",
    "        if (global_best_fitness - prior_global_best_fitness) < min_improvement:\n",
    "            small_improvement += 1\n",
    "        else:\n",
    "            small_improvement = 0\n",
    "\n",
    "        if small_improvement >= max_same:\n",
    "            iteration_end = time.time()\n",
    "            pso_end = time.time()\n",
    "            print(f\"Iteration time: {(iteration_end - iteration_start)/60:.2f} minutes\")\n",
    "            return global_best_position, global_best_fitness, pso_end - pso_start\n",
    "\n",
    "        # This part of the code uses the discrete binary version of PCO for updates to current position\n",
    "        r1 = np.random.rand(num_particles, n_features)\n",
    "        r2 = np.random.rand(num_particles, n_features)\n",
    "        velocity = inertia_weight * velocity + cognitive_component * r1 * (personal_best_position - current_position) + social_component * r2 * (global_best_position - current_position)\n",
    "        rand_nums = np.random.rand(num_particles, n_features)\n",
    "        flip_probs = 1 / (1 + np.exp(-velocity))\n",
    "        flip_map = rand_nums <= flip_probs\n",
    "        current_position = np.where(flip_map, 1, 0)\n",
    "        iteration_end = time.time()\n",
    "        print(f\"Iteration time: {(iteration_end - iteration_start)/60:.2f} minutes\")\n",
    "\n",
    "    pso_end = time.time()\n",
    "\n",
    "    return global_best_position, global_best_fitness, pso_end - pso_start"
   ]
  },
  {
   "cell_type": "markdown",
   "metadata": {},
   "source": [
    "#### Binary"
   ]
  },
  {
   "cell_type": "code",
   "execution_count": 11,
   "metadata": {},
   "outputs": [
    {
     "name": "stderr",
     "output_type": "stream",
     "text": [
      "[Parallel(n_jobs=-1)]: Using backend LokyBackend with 16 concurrent workers.\n",
      "[Parallel(n_jobs=-1)]: Done   2 out of  16 | elapsed:  1.2min remaining:  8.1min\n",
      "[Parallel(n_jobs=-1)]: Done  16 out of  16 | elapsed:  3.0min finished\n",
      "[Parallel(n_jobs=-1)]: Using backend LokyBackend with 16 concurrent workers.\n"
     ]
    },
    {
     "name": "stdout",
     "output_type": "stream",
     "text": [
      "Initialization time: 2.98 minutes\n",
      "Iteration 1/20\n"
     ]
    },
    {
     "name": "stderr",
     "output_type": "stream",
     "text": [
      "[Parallel(n_jobs=-1)]: Done   2 out of  16 | elapsed:  1.1min remaining:  7.9min\n",
      "[Parallel(n_jobs=-1)]: Done  16 out of  16 | elapsed:  3.0min finished\n",
      "[Parallel(n_jobs=-1)]: Using backend LokyBackend with 16 concurrent workers.\n"
     ]
    },
    {
     "name": "stdout",
     "output_type": "stream",
     "text": [
      "Global Best Fitness: 0.9989\n",
      "Iteration time: 2.98 minutes\n",
      "Iteration 2/20\n"
     ]
    },
    {
     "name": "stderr",
     "output_type": "stream",
     "text": [
      "[Parallel(n_jobs=-1)]: Done   2 out of  16 | elapsed:  1.7min remaining: 12.1min\n",
      "[Parallel(n_jobs=-1)]: Done  16 out of  16 | elapsed:  2.8min finished\n",
      "[Parallel(n_jobs=-1)]: Using backend LokyBackend with 16 concurrent workers.\n"
     ]
    },
    {
     "name": "stdout",
     "output_type": "stream",
     "text": [
      "Global Best Fitness: 0.9989\n",
      "Iteration time: 2.76 minutes\n",
      "Iteration 3/20\n"
     ]
    },
    {
     "name": "stderr",
     "output_type": "stream",
     "text": [
      "[Parallel(n_jobs=-1)]: Done   2 out of  16 | elapsed:  1.6min remaining: 11.3min\n",
      "[Parallel(n_jobs=-1)]: Done  16 out of  16 | elapsed:  2.7min finished\n",
      "[Parallel(n_jobs=-1)]: Using backend LokyBackend with 16 concurrent workers.\n"
     ]
    },
    {
     "name": "stdout",
     "output_type": "stream",
     "text": [
      "Global Best Fitness: 0.9989\n",
      "Iteration time: 2.67 minutes\n",
      "Iteration 4/20\n"
     ]
    },
    {
     "name": "stderr",
     "output_type": "stream",
     "text": [
      "[Parallel(n_jobs=-1)]: Done   2 out of  16 | elapsed:  1.2min remaining:  8.6min\n",
      "[Parallel(n_jobs=-1)]: Done  16 out of  16 | elapsed:  2.3min finished\n",
      "[Parallel(n_jobs=-1)]: Using backend LokyBackend with 16 concurrent workers.\n"
     ]
    },
    {
     "name": "stdout",
     "output_type": "stream",
     "text": [
      "Global Best Fitness: 0.9991\n",
      "Iteration time: 2.33 minutes\n",
      "Iteration 5/20\n"
     ]
    },
    {
     "name": "stderr",
     "output_type": "stream",
     "text": [
      "[Parallel(n_jobs=-1)]: Done   2 out of  16 | elapsed:  1.2min remaining:  8.7min\n",
      "[Parallel(n_jobs=-1)]: Done  16 out of  16 | elapsed:  2.9min finished\n",
      "[Parallel(n_jobs=-1)]: Using backend LokyBackend with 16 concurrent workers.\n"
     ]
    },
    {
     "name": "stdout",
     "output_type": "stream",
     "text": [
      "Global Best Fitness: 0.9991\n",
      "Iteration time: 2.87 minutes\n",
      "Iteration 6/20\n"
     ]
    },
    {
     "name": "stderr",
     "output_type": "stream",
     "text": [
      "[Parallel(n_jobs=-1)]: Done   2 out of  16 | elapsed:  1.4min remaining:  9.8min\n",
      "[Parallel(n_jobs=-1)]: Done  16 out of  16 | elapsed:  2.8min finished\n",
      "[Parallel(n_jobs=-1)]: Using backend LokyBackend with 16 concurrent workers.\n"
     ]
    },
    {
     "name": "stdout",
     "output_type": "stream",
     "text": [
      "Global Best Fitness: 0.9991\n",
      "Iteration time: 2.76 minutes\n",
      "Iteration 7/20\n"
     ]
    },
    {
     "name": "stderr",
     "output_type": "stream",
     "text": [
      "[Parallel(n_jobs=-1)]: Done   2 out of  16 | elapsed:  1.3min remaining:  9.2min\n",
      "[Parallel(n_jobs=-1)]: Done  16 out of  16 | elapsed:  2.6min finished\n",
      "[Parallel(n_jobs=-1)]: Using backend LokyBackend with 16 concurrent workers.\n"
     ]
    },
    {
     "name": "stdout",
     "output_type": "stream",
     "text": [
      "Global Best Fitness: 0.9991\n",
      "Iteration time: 2.63 minutes\n",
      "Iteration 8/20\n"
     ]
    },
    {
     "name": "stderr",
     "output_type": "stream",
     "text": [
      "[Parallel(n_jobs=-1)]: Done   2 out of  16 | elapsed:  1.5min remaining: 10.6min\n",
      "[Parallel(n_jobs=-1)]: Done  16 out of  16 | elapsed:  2.7min finished\n",
      "[Parallel(n_jobs=-1)]: Using backend LokyBackend with 16 concurrent workers.\n"
     ]
    },
    {
     "name": "stdout",
     "output_type": "stream",
     "text": [
      "Global Best Fitness: 0.9991\n",
      "Iteration time: 2.71 minutes\n",
      "Iteration 9/20\n"
     ]
    },
    {
     "name": "stderr",
     "output_type": "stream",
     "text": [
      "[Parallel(n_jobs=-1)]: Done   2 out of  16 | elapsed:  1.3min remaining:  8.9min\n"
     ]
    },
    {
     "name": "stdout",
     "output_type": "stream",
     "text": [
      "Global Best Fitness: 0.9991\n",
      "Iteration time: 2.44 minutes\n"
     ]
    },
    {
     "name": "stderr",
     "output_type": "stream",
     "text": [
      "[Parallel(n_jobs=-1)]: Done  16 out of  16 | elapsed:  2.4min finished\n"
     ]
    }
   ],
   "source": [
    "rf_pso_best_pos_2, rf_pso_best_fitness_2, pso_algo_time_2 = pso_feature_selection(X_train=X_train, X_test=X_test,\n",
    "                                                                                  y_train=y_train_2, y_test=y_test_2,\n",
    "                                                                                  parallel=True)"
   ]
  },
  {
   "cell_type": "code",
   "execution_count": 12,
   "metadata": {},
   "outputs": [
    {
     "name": "stdout",
     "output_type": "stream",
     "text": [
      "PSO Algorithm Running Time: 1627.02 seconds\n"
     ]
    }
   ],
   "source": [
    "print(f\"PSO Algorithm Running Time: {pso_algo_time_2:.2f} seconds\")"
   ]
  },
  {
   "cell_type": "code",
   "execution_count": 13,
   "metadata": {},
   "outputs": [
    {
     "name": "stdout",
     "output_type": "stream",
     "text": [
      "              precision    recall  f1-score       support\n",
      "Attack         0.999777  0.999344  0.999560  1.576575e+06\n",
      "Benign         0.972995  0.990640  0.981738  3.760700e+04\n",
      "accuracy       0.999141  0.999141  0.999141  9.991414e-01\n",
      "macro avg      0.986386  0.994992  0.990649  1.614182e+06\n",
      "weighted avg   0.999153  0.999141  0.999145  1.614182e+06\n",
      "Training time: 13.32\n",
      "Processing time: 0.21\n"
     ]
    }
   ],
   "source": [
    "rf_pso_features_2 = np.sum(rf_pso_best_pos_2)\n",
    "selected_features = np.where(rf_pso_best_pos_2 == 1)[0]\n",
    "rf_pso_report_2, rf_pso_train_time_2, rf_pso_pred_time_2, y_pred_rf_pso_2 = calculate_bio_inspired(X_train=X_train[:, selected_features],\n",
    "                                                                                                   X_test=X_test[:, selected_features],\n",
    "                                                                                                   y_train=y_train_2, y_test=y_test_2)\n",
    "print(pd.DataFrame(rf_pso_report_2).transpose())\n",
    "print(f\"Training time: {rf_pso_train_time_2:.2f}\")\n",
    "print(f\"Processing time: {rf_pso_pred_time_2:.2f}\")"
   ]
  },
  {
   "cell_type": "code",
   "execution_count": 14,
   "metadata": {},
   "outputs": [
    {
     "data": {
      "image/png": "[encoded data removed]",
      "text/plain": [
       "<Figure size 1000x700 with 2 Axes>"
      ]
     },
     "metadata": {},
     "output_type": "display_data"
    }
   ],
   "source": [
    "cm_rf_pso_2 = confusion_matrix(y_test_2, y_pred_rf_pso_2)\n",
    "\n",
    "# get names for confusion matrix\n",
    "df_2 = pd.DataFrame(rf_pso_report_2)\n",
    "column_names_2 = df_2.columns.tolist()[0:2]\n",
    "\n",
    "# visualize the confusion matrix using seaborn\n",
    "plt.figure(figsize=(10, 7))\n",
    "sns.heatmap(cm_rf_pso_2,\n",
    "            annot=True,\n",
    "            fmt='d',\n",
    "            cmap='Blues',\n",
    "            xticklabels=column_names_2,\n",
    "            yticklabels=column_names_2)\n",
    "plt.xlabel('Predicted Labels')\n",
    "plt.ylabel('True Labels')\n",
    "plt.title('Confusion Matrix')\n",
    "plt.show()"
   ]
  },
  {
   "cell_type": "markdown",
   "metadata": {},
   "source": [
    "#### 6 Classes"
   ]
  },
  {
   "cell_type": "code",
   "execution_count": 15,
   "metadata": {},
   "outputs": [
    {
     "name": "stderr",
     "output_type": "stream",
     "text": [
      "[Parallel(n_jobs=-1)]: Using backend LokyBackend with 16 concurrent workers.\n",
      "[Parallel(n_jobs=-1)]: Done   2 out of  16 | elapsed:  1.3min remaining:  8.8min\n",
      "[Parallel(n_jobs=-1)]: Done  16 out of  16 | elapsed:  3.0min finished\n",
      "[Parallel(n_jobs=-1)]: Using backend LokyBackend with 16 concurrent workers.\n"
     ]
    },
    {
     "name": "stdout",
     "output_type": "stream",
     "text": [
      "Initialization time: 2.97 minutes\n",
      "Iteration 1/20\n"
     ]
    },
    {
     "name": "stderr",
     "output_type": "stream",
     "text": [
      "[Parallel(n_jobs=-1)]: Done   2 out of  16 | elapsed:  1.2min remaining:  8.5min\n",
      "[Parallel(n_jobs=-1)]: Done  16 out of  16 | elapsed:  3.0min finished\n",
      "[Parallel(n_jobs=-1)]: Using backend LokyBackend with 16 concurrent workers.\n"
     ]
    },
    {
     "name": "stdout",
     "output_type": "stream",
     "text": [
      "Global Best Fitness: 0.9987\n",
      "Iteration time: 3.00 minutes\n",
      "Iteration 2/20\n"
     ]
    },
    {
     "name": "stderr",
     "output_type": "stream",
     "text": [
      "[Parallel(n_jobs=-1)]: Done   2 out of  16 | elapsed:  1.9min remaining: 13.3min\n",
      "[Parallel(n_jobs=-1)]: Done  16 out of  16 | elapsed:  2.6min finished\n",
      "[Parallel(n_jobs=-1)]: Using backend LokyBackend with 16 concurrent workers.\n"
     ]
    },
    {
     "name": "stdout",
     "output_type": "stream",
     "text": [
      "Global Best Fitness: 0.9987\n",
      "Iteration time: 2.59 minutes\n",
      "Iteration 3/20\n"
     ]
    },
    {
     "name": "stderr",
     "output_type": "stream",
     "text": [
      "[Parallel(n_jobs=-1)]: Done   2 out of  16 | elapsed:  1.7min remaining: 11.8min\n",
      "[Parallel(n_jobs=-1)]: Done  16 out of  16 | elapsed:  2.7min finished\n",
      "[Parallel(n_jobs=-1)]: Using backend LokyBackend with 16 concurrent workers.\n"
     ]
    },
    {
     "name": "stdout",
     "output_type": "stream",
     "text": [
      "Global Best Fitness: 0.9987\n",
      "Iteration time: 2.71 minutes\n",
      "Iteration 4/20\n"
     ]
    },
    {
     "name": "stderr",
     "output_type": "stream",
     "text": [
      "[Parallel(n_jobs=-1)]: Done   2 out of  16 | elapsed:  1.4min remaining: 10.1min\n",
      "[Parallel(n_jobs=-1)]: Done  16 out of  16 | elapsed:  2.6min finished\n",
      "[Parallel(n_jobs=-1)]: Using backend LokyBackend with 16 concurrent workers.\n"
     ]
    },
    {
     "name": "stdout",
     "output_type": "stream",
     "text": [
      "Global Best Fitness: 0.9987\n",
      "Iteration time: 2.62 minutes\n",
      "Iteration 5/20\n"
     ]
    },
    {
     "name": "stderr",
     "output_type": "stream",
     "text": [
      "[Parallel(n_jobs=-1)]: Done   2 out of  16 | elapsed:  1.5min remaining: 10.6min\n"
     ]
    },
    {
     "name": "stdout",
     "output_type": "stream",
     "text": [
      "Global Best Fitness: 0.9987\n",
      "Iteration time: 2.72 minutes\n"
     ]
    },
    {
     "name": "stderr",
     "output_type": "stream",
     "text": [
      "[Parallel(n_jobs=-1)]: Done  16 out of  16 | elapsed:  2.7min finished\n"
     ]
    }
   ],
   "source": [
    "rf_pso_best_pos_6, rf_pso_best_fitness_6, pso_algo_time_6 = pso_feature_selection(X_train=X_train, X_test=X_test,\n",
    "                                                                                  y_train=y_train_6, y_test=y_test_6,\n",
    "                                                                                  parallel=True)"
   ]
  },
  {
   "cell_type": "code",
   "execution_count": 16,
   "metadata": {},
   "outputs": [
    {
     "name": "stdout",
     "output_type": "stream",
     "text": [
      "PSO Algorithm Running Time: 996.37 seconds\n"
     ]
    }
   ],
   "source": [
    "print(f\"PSO Algorithm Running Time: {pso_algo_time_6:.2f} seconds\")"
   ]
  },
  {
   "cell_type": "code",
   "execution_count": 17,
   "metadata": {},
   "outputs": [
    {
     "name": "stdout",
     "output_type": "stream",
     "text": [
      "              precision    recall  f1-score       support\n",
      "Benign         0.962406  0.995905  0.978869  3.760700e+04\n",
      "DDos           0.999796  0.999962  0.999879  1.066764e+06\n",
      "Dos            0.999897  0.999482  0.999689  4.166760e+05\n",
      "MQTT           0.999937  0.992168  0.996037  6.371500e+04\n",
      "Recon          0.993716  0.971275  0.982367  2.767600e+04\n",
      "Spoofing       0.860735  0.765482  0.810319  1.744000e+03\n",
      "accuracy       0.998690  0.998690  0.998690  9.986904e-01\n",
      "macro avg      0.969414  0.954045  0.961193  1.614182e+06\n",
      "weighted avg   0.998702  0.998690  0.998684  1.614182e+06\n",
      "Training time: 14.62\n",
      "Processing time: 0.43\n"
     ]
    }
   ],
   "source": [
    "rf_pso_features_6 = np.sum(rf_pso_best_pos_6)\n",
    "selected_features = np.where(rf_pso_best_pos_6 == 1)[0]\n",
    "rf_pso_report_6, rf_pso_train_time_6, rf_pso_pred_time_6, y_pred_rf_pso_6 = calculate_bio_inspired(X_train=X_train[:, selected_features],\n",
    "                                                                                                   X_test=X_test[:, selected_features],\n",
    "                                                                                                   y_train=y_train_6, y_test=y_test_6)\n",
    "print(pd.DataFrame(rf_pso_report_6).transpose())\n",
    "print(f\"Training time: {rf_pso_train_time_6:.2f}\")\n",
    "print(f\"Processing time: {rf_pso_pred_time_6:.2f}\")"
   ]
  },
  {
   "cell_type": "code",
   "execution_count": 18,
   "metadata": {},
   "outputs": [
    {
     "data": {
      "image/png": "[encoded data removed]",
      "text/plain": [
       "<Figure size 1000x700 with 2 Axes>"
      ]
     },
     "metadata": {},
     "output_type": "display_data"
    }
   ],
   "source": [
    "cm_rf_pso_6 = confusion_matrix(y_test_6, y_pred_rf_pso_6)\n",
    "\n",
    "# get names for confusion matrix\n",
    "df_6 = pd.DataFrame(rf_pso_report_6)\n",
    "column_names_6 = df_6.columns.tolist()[0:2]\n",
    "\n",
    "# visualize the confusion matrix using seaborn\n",
    "plt.figure(figsize=(10, 7))\n",
    "sns.heatmap(cm_rf_pso_6,\n",
    "            annot=True,\n",
    "            fmt='d',\n",
    "            cmap='Blues',\n",
    "            xticklabels=column_names_6,\n",
    "            yticklabels=column_names_6)\n",
    "plt.xlabel('Predicted Labels')\n",
    "plt.ylabel('True Labels')\n",
    "plt.title('Confusion Matrix')\n",
    "plt.show()"
   ]
  },
  {
   "cell_type": "markdown",
   "metadata": {},
   "source": [
    "#### 19 Classes"
   ]
  },
  {
   "cell_type": "code",
   "execution_count": 19,
   "metadata": {},
   "outputs": [
    {
     "name": "stderr",
     "output_type": "stream",
     "text": [
      "[Parallel(n_jobs=-1)]: Using backend LokyBackend with 16 concurrent workers.\n",
      "[Parallel(n_jobs=-1)]: Done   2 out of  16 | elapsed:  1.2min remaining:  8.1min\n",
      "[Parallel(n_jobs=-1)]: Done  16 out of  16 | elapsed:  2.7min finished\n",
      "[Parallel(n_jobs=-1)]: Using backend LokyBackend with 16 concurrent workers.\n"
     ]
    },
    {
     "name": "stdout",
     "output_type": "stream",
     "text": [
      "Initialization time: 2.70 minutes\n",
      "Iteration 1/20\n"
     ]
    },
    {
     "name": "stderr",
     "output_type": "stream",
     "text": [
      "[Parallel(n_jobs=-1)]: Done   2 out of  16 | elapsed:  1.1min remaining:  7.8min\n",
      "[Parallel(n_jobs=-1)]: Done  16 out of  16 | elapsed:  2.7min finished\n",
      "[Parallel(n_jobs=-1)]: Using backend LokyBackend with 16 concurrent workers.\n"
     ]
    },
    {
     "name": "stdout",
     "output_type": "stream",
     "text": [
      "Global Best Fitness: 0.9967\n",
      "Iteration time: 2.72 minutes\n",
      "Iteration 2/20\n"
     ]
    },
    {
     "name": "stderr",
     "output_type": "stream",
     "text": [
      "[Parallel(n_jobs=-1)]: Done   2 out of  16 | elapsed:  1.8min remaining: 12.3min\n",
      "[Parallel(n_jobs=-1)]: Done  16 out of  16 | elapsed:  2.4min finished\n",
      "[Parallel(n_jobs=-1)]: Using backend LokyBackend with 16 concurrent workers.\n"
     ]
    },
    {
     "name": "stdout",
     "output_type": "stream",
     "text": [
      "Global Best Fitness: 0.9972\n",
      "Iteration time: 2.37 minutes\n",
      "Iteration 3/20\n"
     ]
    },
    {
     "name": "stderr",
     "output_type": "stream",
     "text": [
      "[Parallel(n_jobs=-1)]: Done   2 out of  16 | elapsed:  1.4min remaining:  9.7min\n",
      "[Parallel(n_jobs=-1)]: Done  16 out of  16 | elapsed:  2.5min finished\n",
      "[Parallel(n_jobs=-1)]: Using backend LokyBackend with 16 concurrent workers.\n"
     ]
    },
    {
     "name": "stdout",
     "output_type": "stream",
     "text": [
      "Global Best Fitness: 0.9972\n",
      "Iteration time: 2.50 minutes\n",
      "Iteration 4/20\n"
     ]
    },
    {
     "name": "stderr",
     "output_type": "stream",
     "text": [
      "[Parallel(n_jobs=-1)]: Done   2 out of  16 | elapsed:  1.4min remaining: 10.1min\n",
      "[Parallel(n_jobs=-1)]: Done  16 out of  16 | elapsed:  2.4min finished\n",
      "[Parallel(n_jobs=-1)]: Using backend LokyBackend with 16 concurrent workers.\n"
     ]
    },
    {
     "name": "stdout",
     "output_type": "stream",
     "text": [
      "Global Best Fitness: 0.9972\n",
      "Iteration time: 2.41 minutes\n",
      "Iteration 5/20\n"
     ]
    },
    {
     "name": "stderr",
     "output_type": "stream",
     "text": [
      "[Parallel(n_jobs=-1)]: Done   2 out of  16 | elapsed:  1.2min remaining:  8.7min\n",
      "[Parallel(n_jobs=-1)]: Done  16 out of  16 | elapsed:  2.4min finished\n",
      "[Parallel(n_jobs=-1)]: Using backend LokyBackend with 16 concurrent workers.\n"
     ]
    },
    {
     "name": "stdout",
     "output_type": "stream",
     "text": [
      "Global Best Fitness: 0.9972\n",
      "Iteration time: 2.40 minutes\n",
      "Iteration 6/20\n"
     ]
    },
    {
     "name": "stderr",
     "output_type": "stream",
     "text": [
      "[Parallel(n_jobs=-1)]: Done   2 out of  16 | elapsed:  1.2min remaining:  8.7min\n",
      "[Parallel(n_jobs=-1)]: Done  16 out of  16 | elapsed:  2.4min finished\n",
      "[Parallel(n_jobs=-1)]: Using backend LokyBackend with 16 concurrent workers.\n"
     ]
    },
    {
     "name": "stdout",
     "output_type": "stream",
     "text": [
      "Global Best Fitness: 0.9972\n",
      "Iteration time: 2.40 minutes\n",
      "Iteration 7/20\n"
     ]
    },
    {
     "name": "stderr",
     "output_type": "stream",
     "text": [
      "[Parallel(n_jobs=-1)]: Done   2 out of  16 | elapsed:  1.3min remaining:  9.3min\n"
     ]
    },
    {
     "name": "stdout",
     "output_type": "stream",
     "text": [
      "Global Best Fitness: 0.9972\n",
      "Iteration time: 2.54 minutes\n"
     ]
    },
    {
     "name": "stderr",
     "output_type": "stream",
     "text": [
      "[Parallel(n_jobs=-1)]: Done  16 out of  16 | elapsed:  2.5min finished\n"
     ]
    }
   ],
   "source": [
    "rf_pso_best_pos_19, rf_pso_best_fitness_19, pso_algo_time_19 = pso_feature_selection(X_train=X_train, X_test=X_test,\n",
    "                                                                                     y_train=y_train_19, y_test=y_test_19,\n",
    "                                                                                     parallel=True)"
   ]
  },
  {
   "cell_type": "code",
   "execution_count": 20,
   "metadata": {},
   "outputs": [
    {
     "name": "stdout",
     "output_type": "stream",
     "text": [
      "PSO Algorithm Running Time: 1202.63 seconds\n"
     ]
    }
   ],
   "source": [
    "print(f\"PSO Algorithm Running Time: {pso_algo_time_19:.2f} seconds\")"
   ]
  },
  {
   "cell_type": "code",
   "execution_count": 21,
   "metadata": {},
   "outputs": [
    {
     "name": "stdout",
     "output_type": "stream",
     "text": [
      "                    precision    recall  f1-score       support\n",
      "ARP_spoofing         0.850706  0.725344  0.783039  1.744000e+03\n",
      "Benign               0.956682  0.994815  0.975376  3.760700e+04\n",
      "DDoS_ICMP            0.999491  0.999911  0.999701  3.496990e+05\n",
      "DDoS_SYN             0.999948  0.998097  0.999022  1.723970e+05\n",
      "DDoS_TCP             0.999294  0.999956  0.999625  1.825980e+05\n",
      "DDoS_UDP             0.999152  0.999586  0.999369  3.620700e+05\n",
      "DDoS_connect_flood   0.999642  0.999976  0.999809  4.191600e+04\n",
      "DDoS_publish_flood   0.999396  0.983484  0.991376  8.416000e+03\n",
      "DoS_ICMP             0.999695  0.998933  0.999314  9.843200e+04\n",
      "DoS_SYN              0.999757  0.999858  0.999807  9.859500e+04\n",
      "DoS_TCP              0.999708  0.999890  0.999799  8.209600e+04\n",
      "DoS_UDP              0.999593  0.999157  0.999375  1.375530e+05\n",
      "DoS_connect_flood    1.000000  0.995529  0.997759  3.131000e+03\n",
      "DoS_publish_flood    0.984603  1.000000  0.992242  8.505000e+03\n",
      "Malformed_date       0.999197  0.712078  0.831551  1.747000e+03\n",
      "OS_scan              0.918959  0.644757  0.757817  3.834000e+03\n",
      "Port_scan            0.939798  0.987490  0.963054  2.262200e+04\n",
      "VulScan              0.848315  0.292070  0.434532  1.034000e+03\n",
      "ping_sweep           0.984000  0.661290  0.790997  1.860000e+02\n",
      "accuracy             0.997192  0.997192  0.997192  9.971924e-01\n",
      "macro avg            0.972523  0.894327  0.921767  1.614182e+06\n",
      "weighted avg         0.997131  0.997192  0.996965  1.614182e+06\n",
      "Training time: 10.74\n",
      "Processing time: 1.00\n"
     ]
    }
   ],
   "source": [
    "rf_pso_features_19 = np.sum(rf_pso_best_pos_19)\n",
    "selected_features = np.where(rf_pso_best_pos_19 == 1)[0]\n",
    "rf_pso_report_19, rf_pso_train_time_19, rf_pso_pred_time_19, y_pred_rf_pso_19 = calculate_bio_inspired(X_train=X_train[:, selected_features],\n",
    "                                                                                                       X_test=X_test[:, selected_features],\n",
    "                                                                                                       y_train=y_train_19, y_test=y_test_19)\n",
    "print(pd.DataFrame(rf_pso_report_19).transpose())\n",
    "print(f\"Training time: {rf_pso_train_time_19:.2f}\")\n",
    "print(f\"Processing time: {rf_pso_pred_time_19:.2f}\")"
   ]
  },
  {
   "cell_type": "code",
   "execution_count": 22,
   "metadata": {},
   "outputs": [
    {
     "data": {
      "image/png": "[encoded data removed]",
      "text/plain": [
       "<Figure size 1000x700 with 2 Axes>"
      ]
     },
     "metadata": {},
     "output_type": "display_data"
    }
   ],
   "source": [
    "cm_rf_pso_19 = confusion_matrix(y_test_19, y_pred_rf_pso_19)\n",
    "\n",
    "# get names for confusion matrix\n",
    "df_19 = pd.DataFrame(rf_pso_report_19)\n",
    "column_names_19 = df_19.columns.tolist()[0:2]\n",
    "\n",
    "# visualize the confusion matrix using seaborn\n",
    "plt.figure(figsize=(10, 7))\n",
    "sns.heatmap(cm_rf_pso_19,\n",
    "            annot=True,\n",
    "            fmt='d',\n",
    "            cmap='Blues',\n",
    "            xticklabels=column_names_19,\n",
    "            yticklabels=column_names_19)\n",
    "plt.xlabel('Predicted Labels')\n",
    "plt.ylabel('True Labels')\n",
    "plt.title('Confusion Matrix')\n",
    "plt.show()"
   ]
  },
  {
   "cell_type": "markdown",
   "metadata": {},
   "source": [
    "## Results"
   ]
  },
  {
   "cell_type": "code",
   "execution_count": 23,
   "metadata": {},
   "outputs": [],
   "source": [
    "# Use if you want to save results in a folder with a specific datetime\n",
    "#current_datetime = datetime.datetime.now().strftime(\"%Y-%m-%d_%H:%M:%S\")\n",
    "#results_folder = f\"results_data_{current_datetime}\"\n",
    "\n",
    "results_folder = 'results_data'\n",
    "\n",
    "if not os.path.exists(results_folder):\n",
    "    os.makedirs(results_folder)"
   ]
  },
  {
   "cell_type": "code",
   "execution_count": 24,
   "metadata": {},
   "outputs": [],
   "source": [
    "data_to_save = {\n",
    "    'rf_pso_report_2': rf_pso_report_2,\n",
    "    'pso_algo_time_2': pso_algo_time_2,\n",
    "    'rf_pso_train_time_2': rf_pso_train_time_2,\n",
    "    'rf_pso_pred_time_2': rf_pso_pred_time_2,\n",
    "    'rf_pso_features_2': rf_pso_features_2,\n",
    "    'rf_pso_best_pos_2': rf_pso_best_pos_2,\n",
    "    'cm_rf_pso_2': cm_rf_pso_2,\n",
    "\n",
    "    'rf_pso_report_6': rf_pso_report_6,\n",
    "    'pso_algo_time_6': pso_algo_time_6,\n",
    "    'rf_pso_train_time_6': rf_pso_train_time_6,\n",
    "    'rf_pso_pred_time_6': rf_pso_pred_time_6,\n",
    "    'rf_pso_features_6': rf_pso_features_6,\n",
    "    'rf_pso_best_pos_6': rf_pso_best_pos_6,\n",
    "    'cm_rf_pso_6': cm_rf_pso_6,\n",
    "\n",
    "    'rf_pso_report_19': rf_pso_report_19,\n",
    "    'pso_algo_time_19': pso_algo_time_19,\n",
    "    'rf_pso_train_time_19': rf_pso_train_time_19,\n",
    "    'rf_pso_pred_time_19': rf_pso_pred_time_19,\n",
    "    'rf_pso_features_19': rf_pso_features_19,\n",
    "    'rf_pso_best_pos_19': rf_pso_best_pos_19,\n",
    "    'cm_rf_pso_19': cm_rf_pso_19\n",
    "\n",
    "}"
   ]
  },
  {
   "cell_type": "code",
   "execution_count": 25,
   "metadata": {},
   "outputs": [],
   "source": [
    "for name, data in data_to_save.items():\n",
    "    file_path = os.path.join(results_folder, f'{name}.pkl')\n",
    "    with open(file_path, 'wb') as f:\n",
    "        pickle.dump(data, f)"
   ]
  },
  {
   "cell_type": "code",
   "execution_count": 26,
   "metadata": {},
   "outputs": [],
   "source": [
    "for key in data_to_save:\n",
    "    if isinstance(data_to_save[key], np.integer):\n",
    "        data_to_save[key] = int(data_to_save[key])\n",
    "    elif isinstance(data_to_save[key], np.ndarray):\n",
    "        data_to_save[key] = data_to_save[key].tolist()\n",
    "        \n",
    "for name, data in data_to_save.items():\n",
    "    file_path = os.path.join(results_folder, f'{name}.json') \n",
    "    with open(file_path, 'w') as f:\n",
    "        json.dump(data, f, indent=4)"
   ]
  },
  {
   "cell_type": "markdown",
   "metadata": {},
   "source": [
    "## Notebook Duration"
   ]
  },
  {
   "cell_type": "code",
   "execution_count": 27,
   "metadata": {},
   "outputs": [
    {
     "name": "stdout",
     "output_type": "stream",
     "text": [
      "Notebook Duration: 67.27044976154963 minutes\n"
     ]
    }
   ],
   "source": [
    "notebook_end_time = time.time()\n",
    "print(f\"Notebook Duration: {(notebook_end_time - notebook_start_time) / 60} minutes\")"
   ]
  }
 ],
 "metadata": {
  "kernelspec": {
   "display_name": "Python 3 (ipykernel)",
   "language": "python",
   "name": "python3"
  },
  "language_info": {
   "codemirror_mode": {
    "name": "ipython",
    "version": 3
   },
   "file_extension": ".py",
   "mimetype": "text/x-python",
   "name": "python",
   "nbconvert_exporter": "python",
   "pygments_lexer": "ipython3",
   "version": "3.12.7"
  },
  "vscode": {
   "interpreter": {
    "hash": "6dd43ec3747b067f8c766f9497dca460159497da42e0ff5304d716a8bcc0d21f"
   }
  }
 },
 "nbformat": 4,
 "nbformat_minor": 4
}
